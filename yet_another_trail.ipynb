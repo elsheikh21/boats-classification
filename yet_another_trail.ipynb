{
  "nbformat": 4,
  "nbformat_minor": 0,
  "metadata": {
    "colab": {
      "name": "yet_another_trail.ipynb",
      "version": "0.3.2",
      "provenance": [],
      "collapsed_sections": [],
      "include_colab_link": true
    },
    "kernelspec": {
      "name": "python3",
      "display_name": "Python 3"
    },
    "accelerator": "GPU"
  },
  "cells": [
    {
      "cell_type": "markdown",
      "metadata": {
        "id": "view-in-github",
        "colab_type": "text"
      },
      "source": [
        "<a href=\"https://colab.research.google.com/github/elsheikh21/boats-classification/blob/master/yet_another_trail.ipynb\" target=\"_parent\"><img src=\"https://colab.research.google.com/assets/colab-badge.svg\" alt=\"Open In Colab\"/></a>"
      ]
    },
    {
      "metadata": {
        "id": "1Qm5hUmYY3UZ",
        "colab_type": "code",
        "colab": {
          "base_uri": "https://localhost:8080/",
          "height": 158
        },
        "outputId": "2b5efcf6-61f7-48c3-936d-49d12c5a44f0"
      },
      "cell_type": "code",
      "source": [
        "!rm -rf sample_data\n",
        "!git clone https://github.com/elsheikh21/boats-classification\n",
        "!cd boats-classification"
      ],
      "execution_count": 1,
      "outputs": [
        {
          "output_type": "stream",
          "text": [
            "Cloning into 'boats-classification'...\n",
            "remote: Enumerating objects: 6800, done.\u001b[K\n",
            "remote: Counting objects: 100% (6800/6800), done.\u001b[K\n",
            "remote: Compressing objects: 100% (6792/6792), done.\u001b[K\n",
            "remote: Total 6800 (delta 6), reused 6795 (delta 4), pack-reused 0\u001b[K\n",
            "Receiving objects: 100% (6800/6800), 334.53 MiB | 36.06 MiB/s, done.\n",
            "Resolving deltas: 100% (6/6), done.\n",
            "Checking out files: 100% (6700/6700), done.\n"
          ],
          "name": "stdout"
        }
      ]
    },
    {
      "metadata": {
        "id": "KHI1rLthZMak",
        "colab_type": "code",
        "colab": {}
      },
      "cell_type": "code",
      "source": [
        "import os\n",
        "import math\n",
        "import numpy as np\n",
        "import pandas as pd\n",
        "from numpy import savetxt\n",
        "from keras import regularizers\n",
        "from tensorflow.python.keras.models import Sequential\n",
        "from tensorflow.python.keras.callbacks import CSVLogger\n",
        "from tensorflow.python.keras.preprocessing.image import ImageDataGenerator\n",
        "from tensorflow.python.keras.layers import (Dense, Flatten, BatchNormalization, Dropout)\n",
        "from sklearn.metrics import accuracy_score, classification_report\n",
        "from sklearn.metrics import precision_recall_fscore_support as score\n",
        "import matplotlib.pyplot as plt\n",
        "%matplotlib inline"
      ],
      "execution_count": 0,
      "outputs": []
    },
    {
      "metadata": {
        "id": "ijGc_7y8ZRVL",
        "colab_type": "code",
        "colab": {}
      },
      "cell_type": "code",
      "source": [
        "training_dir = os.path.join(\n",
        "    os.getcwd(), 'boats-classification', 'training_set')\n",
        "\n",
        "testing_dir = os.path.join(os.getcwd(), 'boats-classification', 'testing_set', 'test')\n",
        "\n",
        "ground_truth_dir = os.path.join(testing_dir, 'ground_truth.txt')"
      ],
      "execution_count": 0,
      "outputs": []
    },
    {
      "metadata": {
        "id": "mP7StVeuZdZC",
        "colab_type": "code",
        "outputId": "73e76072-a479-48d9-f96b-199c4495bc87",
        "colab": {
          "base_uri": "https://localhost:8080/",
          "height": 52
        }
      },
      "cell_type": "code",
      "source": [
        "data_generator = ImageDataGenerator(validation_split=0.3)\n",
        "\n",
        "# rotation_range=360,\n",
        "# width_shift_range=0.05,\n",
        "# height_shift_range=0.05,\n",
        "# shear_range=0.10,\n",
        "# zoom_range=0.3,\n",
        "# rescale=1.0/255,\n",
        "# horizontal_flip=True,\n",
        "# vertical_flip=True,\n",
        "# validation_split=0.3\n",
        "\n",
        "image_size = 256\n",
        "batch_size = 64\n",
        "\n",
        "train_generator = data_generator.flow_from_directory(\n",
        "    training_dir,\n",
        "    batch_size=batch_size,\n",
        "    subset='training',\n",
        "    shuffle=False\n",
        ")\n",
        "\n",
        "validation_generator = data_generator.flow_from_directory(\n",
        "    training_dir,\n",
        "    batch_size=batch_size,\n",
        "    subset='validation',\n",
        "    shuffle=False\n",
        ")\n",
        "\n",
        "num_classes = len(train_generator.class_indices)"
      ],
      "execution_count": 3,
      "outputs": [
        {
          "output_type": "stream",
          "text": [
            "Found 3311 images belonging to 19 classes.\n",
            "Found 1406 images belonging to 19 classes.\n"
          ],
          "name": "stdout"
        }
      ]
    },
    {
      "metadata": {
        "id": "rF8xqPAnZizy",
        "colab_type": "code",
        "outputId": "801beb2c-9b9f-41d6-ac3d-2ec2ba420675",
        "colab": {
          "base_uri": "https://localhost:8080/",
          "height": 34
        }
      },
      "cell_type": "code",
      "source": [
        "test_datagen = ImageDataGenerator()\n",
        "\n",
        "# rescale=1.0/255\n",
        "\n",
        "df = pd.read_csv(ground_truth_dir, delimiter=';')\n",
        "df.columns = ['filename', 'class']\n",
        "\n",
        "# Remove other data not in training set\n",
        "to_remove_list = ['Cacciapesca', 'Caorlina',\n",
        "                  'Lanciamaggioredi10mMarrone', 'Sanpierota',\n",
        "                  'VigilidelFuoco',\n",
        "                  'SnapshotBarcaParziale', 'SnapshotBarcaMultipla',\n",
        "                  'Mototopocorto']\n",
        "\n",
        "# new dataframe to be used to process the data\n",
        "new_df = df[~df['class'].isin(to_remove_list)]\n",
        "\n",
        "# Similar generator, for testing data\n",
        "test_generator = test_datagen.flow_from_dataframe(\n",
        "    new_df, testing_dir, batch_size=1, shuffle=False\n",
        ")"
      ],
      "execution_count": 4,
      "outputs": [
        {
          "output_type": "stream",
          "text": [
            "Found 1671 images belonging to 19 classes.\n"
          ],
          "name": "stdout"
        }
      ]
    },
    {
      "metadata": {
        "id": "w7irIlsvl9eN",
        "colab_type": "code",
        "colab": {}
      },
      "cell_type": "code",
      "source": [
        "# Plot images produced by data generator\n",
        "def plots(ims, figsize=(24,12), rows=2, interp=False, titles=None):\n",
        "    if type(ims[0]) is np.ndarray:\n",
        "        ims = np.array(ims).astype(np.uint8)\n",
        "        if (ims.shape[-1] != 3):\n",
        "            ims = ims.transpose((0,2,3,1))\n",
        "    f = plt.figure(figsize=figsize)\n",
        "    cols = len(ims)//rows if len(ims) % 2 == 0 else len(ims)//rows + 1\n",
        "    for i in range(len(ims)):\n",
        "        sp = f.add_subplot(rows, cols, i+1)\n",
        "#         sp.axis('Off')\n",
        "        if titles is not None:\n",
        "            sp.set_title(titles[i], fontsize=16)\n",
        "        plt.imshow(ims[i], interpolation=None if interp else 'none')"
      ],
      "execution_count": 0,
      "outputs": []
    },
    {
      "metadata": {
        "id": "o6ibmIX9mBfy",
        "colab_type": "code",
        "colab": {}
      },
      "cell_type": "code",
      "source": [
        "# An images will be used to demonstrate the effects\n",
        "\n",
        "boat_image_path = os.path.join(training_dir, 'Polizia', '20130304_061409_08018.jpg')\n",
        "image = np.expand_dims(plt.imread(boat_image_path), 0)\n",
        "plt.imshow(image[0])"
      ],
      "execution_count": 0,
      "outputs": []
    },
    {
      "metadata": {
        "id": "t5W9eTAKmIC1",
        "colab_type": "code",
        "colab": {}
      },
      "cell_type": "code",
      "source": [
        "# Generate batches of augmented image from original image\n",
        "aug_iter = data_generator.flow(image)\n",
        "\n",
        "#Get 12 samples of our augmented image\n",
        "aug_images = [next(aug_iter)[0].astype(np.uint8) for i in range(12)]\n",
        "plots(aug_images,figsize=(40,10),rows=3)"
      ],
      "execution_count": 0,
      "outputs": []
    },
    {
      "metadata": {
        "id": "XEgGtODtZ0_d",
        "colab_type": "code",
        "colab": {}
      },
      "cell_type": "code",
      "source": [
        "from numpy import savetxt\n",
        "from tensorflow.python.keras.models import Sequential\n",
        "from tensorflow.python.keras.callbacks import CSVLogger\n",
        "from tensorflow.python.keras.layers import Conv2D, MaxPooling2D\n",
        "from tensorflow.python.keras.layers.core import Dense, Activation\n",
        "from tensorflow.python.keras.optimizers import adam\n",
        "from keras.callbacks import EarlyStopping"
      ],
      "execution_count": 0,
      "outputs": []
    },
    {
      "metadata": {
        "id": "6JydX9rypTCu",
        "colab_type": "code",
        "colab": {}
      },
      "cell_type": "code",
      "source": [
        "es = EarlyStopping(monitor='val_loss', patience=5, verbose=1, mode='min')"
      ],
      "execution_count": 0,
      "outputs": []
    },
    {
      "metadata": {
        "id": "aSkS1oXMEhtn",
        "colab_type": "code",
        "colab": {}
      },
      "cell_type": "code",
      "source": [
        "def integer_encoding(data):\n",
        "    from sklearn.preprocessing import LabelEncoder\n",
        "    encoder = LabelEncoder()\n",
        "    return encoder.fit_transform(data)"
      ],
      "execution_count": 0,
      "outputs": []
    },
    {
      "metadata": {
        "id": "OKOf59YUZl5b",
        "colab_type": "code",
        "colab": {
          "base_uri": "https://localhost:8080/",
          "height": 562
        },
        "outputId": "7ddc0cdd-9aef-47bf-96b2-928c8a22a441"
      },
      "cell_type": "code",
      "source": [
        "model = Sequential()\n",
        "\n",
        "# first set of CONV => RELU => POOL\n",
        "model.add(Conv2D(20, (5, 5), input_shape=(256, 256, 3)))\n",
        "model.add(Activation(\"relu\"))\n",
        "model.add(MaxPooling2D(pool_size=(2, 2), strides=(2, 2)))\n",
        "\n",
        "# second set of CONV => RELU => POOL\n",
        "model.add(Conv2D(50, (5, 5)))\n",
        "model.add(Activation(\"relu\"))\n",
        "model.add(MaxPooling2D(pool_size=(2, 2), strides=(2, 2)))\n",
        "\n",
        "# set of FC => RELU layers\n",
        "model.add(Flatten())\n",
        "model.add(Dense(500))\n",
        "model.add(Activation(\"relu\"))\n",
        "model.add(Dropout(.5))\n",
        "\n",
        "# softmax classifier\n",
        "model.add(Dense(num_classes))\n",
        "model.add(Activation(\"softmax\"))\n",
        "\n",
        "# if weightsPath is specified load the weights\n",
        "# if weights_path is not None:\n",
        "#     model.load_weights(weights_path)\n",
        "\n",
        "opt = adam(lr=0.01)\n",
        "model.compile(loss='categorical_crossentropy',\n",
        "             optimizer=opt, metrics=['accuracy'])\n",
        "\n",
        "# if(visualize_summary):\n",
        "#     print('\\nLeNet Model:')\n",
        "#     print(model.summary())\n",
        "\n",
        "# return model\n",
        "model.summary()"
      ],
      "execution_count": 7,
      "outputs": [
        {
          "output_type": "stream",
          "text": [
            "_________________________________________________________________\n",
            "Layer (type)                 Output Shape              Param #   \n",
            "=================================================================\n",
            "conv2d (Conv2D)              (None, 252, 252, 20)      1520      \n",
            "_________________________________________________________________\n",
            "activation (Activation)      (None, 252, 252, 20)      0         \n",
            "_________________________________________________________________\n",
            "max_pooling2d (MaxPooling2D) (None, 126, 126, 20)      0         \n",
            "_________________________________________________________________\n",
            "conv2d_1 (Conv2D)            (None, 122, 122, 50)      25050     \n",
            "_________________________________________________________________\n",
            "activation_1 (Activation)    (None, 122, 122, 50)      0         \n",
            "_________________________________________________________________\n",
            "max_pooling2d_1 (MaxPooling2 (None, 61, 61, 50)        0         \n",
            "_________________________________________________________________\n",
            "flatten (Flatten)            (None, 186050)            0         \n",
            "_________________________________________________________________\n",
            "dense (Dense)                (None, 500)               93025500  \n",
            "_________________________________________________________________\n",
            "activation_2 (Activation)    (None, 500)               0         \n",
            "_________________________________________________________________\n",
            "dropout (Dropout)            (None, 500)               0         \n",
            "_________________________________________________________________\n",
            "dense_1 (Dense)              (None, 19)                9519      \n",
            "_________________________________________________________________\n",
            "activation_3 (Activation)    (None, 19)                0         \n",
            "=================================================================\n",
            "Total params: 93,061,589\n",
            "Trainable params: 93,061,589\n",
            "Non-trainable params: 0\n",
            "_________________________________________________________________\n"
          ],
          "name": "stdout"
        }
      ]
    },
    {
      "metadata": {
        "id": "3Al151kOZrQ2",
        "colab_type": "code",
        "outputId": "881a6eba-af67-4e09-86ad-894f0ea8d61f",
        "colab": {
          "base_uri": "https://localhost:8080/",
          "height": 1777
        }
      },
      "cell_type": "code",
      "source": [
        "csv_logger = CSVLogger('trail_model_training.log')\n",
        "\n",
        "history = model.fit_generator(\n",
        "    train_generator,\n",
        "    steps_per_epoch=math.ceil(train_generator.n//train_generator.batch_size),\n",
        "    epochs=50,\n",
        "    validation_data=validation_generator,\n",
        "    validation_steps=math.ceil(validation_generator.samples //\n",
        "                      validation_generator.batch_size),\n",
        "    callbacks=[csv_logger, es],\n",
        "    use_multiprocessing=True,\n",
        "    workers=0,\n",
        "    shuffle=False\n",
        ")"
      ],
      "execution_count": 8,
      "outputs": [
        {
          "output_type": "stream",
          "text": [
            "Epoch 1/50\n",
            "51/51 [==============================] - 39s 768ms/step - loss: 16.0933 - acc: 0.0012 - val_loss: 15.7223 - val_acc: 0.0246\n",
            "Epoch 2/50\n",
            "51/51 [==============================] - 36s 716ms/step - loss: 15.7082 - acc: 0.0254 - val_loss: 15.7217 - val_acc: 0.0246\n",
            "Epoch 3/50\n",
            "51/51 [==============================] - 34s 671ms/step - loss: 15.7921 - acc: 0.0202 - val_loss: 15.7217 - val_acc: 0.0246\n",
            "Epoch 4/50\n",
            "51/51 [==============================] - 34s 675ms/step - loss: 15.7921 - acc: 0.0202 - val_loss: 15.7217 - val_acc: 0.0246\n",
            "Epoch 5/50\n",
            "51/51 [==============================] - 35s 682ms/step - loss: 15.7872 - acc: 0.0205 - val_loss: 15.7217 - val_acc: 0.0246\n",
            "Epoch 6/50\n",
            "51/51 [==============================] - 34s 672ms/step - loss: 15.7181 - acc: 0.0248 - val_loss: 15.7217 - val_acc: 0.0246\n",
            "Epoch 7/50\n",
            "51/51 [==============================] - 35s 680ms/step - loss: 15.7675 - acc: 0.0218 - val_loss: 15.7217 - val_acc: 0.0246\n",
            "Epoch 8/50\n",
            "51/51 [==============================] - 34s 676ms/step - loss: 15.7872 - acc: 0.0205 - val_loss: 15.7217 - val_acc: 0.0246\n",
            "Epoch 9/50\n",
            "51/51 [==============================] - 35s 677ms/step - loss: 15.8168 - acc: 0.0187 - val_loss: 15.7217 - val_acc: 0.0246\n",
            "Epoch 10/50\n",
            "51/51 [==============================] - 34s 672ms/step - loss: 15.7181 - acc: 0.0248 - val_loss: 15.7217 - val_acc: 0.0246\n",
            "Epoch 11/50\n",
            "51/51 [==============================] - 35s 690ms/step - loss: 15.7477 - acc: 0.0230 - val_loss: 15.7217 - val_acc: 0.0246\n",
            "Epoch 12/50\n",
            "51/51 [==============================] - 35s 683ms/step - loss: 15.7724 - acc: 0.0214 - val_loss: 15.7217 - val_acc: 0.0246\n",
            "Epoch 13/50\n",
            "51/51 [==============================] - 35s 688ms/step - loss: 15.7477 - acc: 0.0230 - val_loss: 15.7217 - val_acc: 0.0246\n",
            "Epoch 14/50\n",
            "51/51 [==============================] - 35s 685ms/step - loss: 15.7724 - acc: 0.0214 - val_loss: 15.7217 - val_acc: 0.0246\n",
            "Epoch 15/50\n",
            "51/51 [==============================] - 35s 686ms/step - loss: 15.7872 - acc: 0.0205 - val_loss: 15.7217 - val_acc: 0.0246\n",
            "Epoch 16/50\n",
            "51/51 [==============================] - 35s 680ms/step - loss: 15.7477 - acc: 0.0230 - val_loss: 15.7217 - val_acc: 0.0246\n",
            "Epoch 17/50\n",
            "51/51 [==============================] - 35s 679ms/step - loss: 15.7724 - acc: 0.0214 - val_loss: 15.7217 - val_acc: 0.0246\n",
            "Epoch 18/50\n",
            "51/51 [==============================] - 35s 682ms/step - loss: 15.7872 - acc: 0.0205 - val_loss: 15.7217 - val_acc: 0.0246\n",
            "Epoch 19/50\n",
            "51/51 [==============================] - 35s 680ms/step - loss: 15.8168 - acc: 0.0187 - val_loss: 15.7217 - val_acc: 0.0246\n",
            "Epoch 20/50\n",
            "51/51 [==============================] - 35s 688ms/step - loss: 15.7477 - acc: 0.0230 - val_loss: 15.7217 - val_acc: 0.0246\n",
            "Epoch 21/50\n",
            "51/51 [==============================] - 34s 672ms/step - loss: 15.7872 - acc: 0.0205 - val_loss: 15.7217 - val_acc: 0.0246\n",
            "Epoch 22/50\n",
            "51/51 [==============================] - 34s 674ms/step - loss: 15.7971 - acc: 0.0199 - val_loss: 16.1181 - val_acc: 0.0000e+00\n",
            "Epoch 23/50\n",
            "51/51 [==============================] - 35s 676ms/step - loss: 15.7378 - acc: 0.0236 - val_loss: 15.7223 - val_acc: 0.0246\n",
            "Epoch 24/50\n",
            "51/51 [==============================] - 34s 674ms/step - loss: 15.7921 - acc: 0.0202 - val_loss: 15.7217 - val_acc: 0.0246\n",
            "Epoch 25/50\n",
            "51/51 [==============================] - 35s 678ms/step - loss: 15.7625 - acc: 0.0221 - val_loss: 15.7217 - val_acc: 0.0246\n",
            "Epoch 26/50\n",
            "51/51 [==============================] - 35s 683ms/step - loss: 15.7477 - acc: 0.0230 - val_loss: 15.7217 - val_acc: 0.0246\n",
            "Epoch 27/50\n",
            "51/51 [==============================] - 35s 691ms/step - loss: 15.7724 - acc: 0.0214 - val_loss: 15.7217 - val_acc: 0.0246\n",
            "Epoch 28/50\n",
            "51/51 [==============================] - 35s 687ms/step - loss: 15.8070 - acc: 0.0193 - val_loss: 15.7217 - val_acc: 0.0246\n",
            "Epoch 29/50\n",
            "51/51 [==============================] - 35s 694ms/step - loss: 15.7230 - acc: 0.0245 - val_loss: 15.7217 - val_acc: 0.0246\n",
            "Epoch 30/50\n",
            "51/51 [==============================] - 35s 679ms/step - loss: 15.7675 - acc: 0.0218 - val_loss: 15.7217 - val_acc: 0.0246\n",
            "Epoch 31/50\n",
            "51/51 [==============================] - 35s 686ms/step - loss: 15.7872 - acc: 0.0205 - val_loss: 15.7217 - val_acc: 0.0246\n",
            "Epoch 32/50\n",
            "51/51 [==============================] - 35s 688ms/step - loss: 15.7823 - acc: 0.0208 - val_loss: 15.7217 - val_acc: 0.0246\n",
            "Epoch 33/50\n",
            "51/51 [==============================] - 35s 690ms/step - loss: 15.7329 - acc: 0.0239 - val_loss: 15.7217 - val_acc: 0.0246\n",
            "Epoch 34/50\n",
            "51/51 [==============================] - 35s 688ms/step - loss: 15.7526 - acc: 0.0227 - val_loss: 15.7217 - val_acc: 0.0246\n",
            "Epoch 35/50\n",
            "51/51 [==============================] - 35s 692ms/step - loss: 15.7921 - acc: 0.0202 - val_loss: 15.7217 - val_acc: 0.0246\n",
            "Epoch 36/50\n",
            "51/51 [==============================] - 35s 682ms/step - loss: 15.7428 - acc: 0.0233 - val_loss: 15.7217 - val_acc: 0.0246\n",
            "Epoch 37/50\n",
            "51/51 [==============================] - 35s 679ms/step - loss: 15.7329 - acc: 0.0239 - val_loss: 15.7217 - val_acc: 0.0246\n",
            "Epoch 38/50\n",
            "51/51 [==============================] - 35s 688ms/step - loss: 15.7477 - acc: 0.0230 - val_loss: 15.7217 - val_acc: 0.0246\n",
            "Epoch 39/50\n",
            "51/51 [==============================] - 35s 679ms/step - loss: 15.7279 - acc: 0.0242 - val_loss: 15.7217 - val_acc: 0.0246\n",
            "Epoch 40/50\n",
            "51/51 [==============================] - 35s 678ms/step - loss: 15.7526 - acc: 0.0227 - val_loss: 15.7217 - val_acc: 0.0246\n",
            "Epoch 41/50\n",
            "51/51 [==============================] - 35s 686ms/step - loss: 15.7576 - acc: 0.0224 - val_loss: 15.7217 - val_acc: 0.0246\n",
            "Epoch 42/50\n",
            "51/51 [==============================] - 35s 679ms/step - loss: 15.7230 - acc: 0.0245 - val_loss: 15.7217 - val_acc: 0.0246\n",
            "Epoch 43/50\n",
            "51/51 [==============================] - 35s 685ms/step - loss: 15.7181 - acc: 0.0248 - val_loss: 15.7217 - val_acc: 0.0246\n",
            "Epoch 44/50\n",
            "51/51 [==============================] - 35s 686ms/step - loss: 15.7526 - acc: 0.0227 - val_loss: 16.1181 - val_acc: 0.0000e+00\n",
            "Epoch 45/50\n",
            "51/51 [==============================] - 35s 680ms/step - loss: 15.7724 - acc: 0.0214 - val_loss: 15.7223 - val_acc: 0.0246\n",
            "Epoch 46/50\n",
            "51/51 [==============================] - 35s 681ms/step - loss: 15.7921 - acc: 0.0202 - val_loss: 15.7217 - val_acc: 0.0246\n",
            "Epoch 47/50\n",
            "51/51 [==============================] - 35s 687ms/step - loss: 15.7724 - acc: 0.0214 - val_loss: 15.7217 - val_acc: 0.0246\n",
            "Epoch 48/50\n",
            "51/51 [==============================] - 34s 670ms/step - loss: 15.7526 - acc: 0.0227 - val_loss: 15.7217 - val_acc: 0.0246\n",
            "Epoch 49/50\n",
            "51/51 [==============================] - 34s 671ms/step - loss: 15.7872 - acc: 0.0205 - val_loss: 15.7217 - val_acc: 0.0246\n",
            "Epoch 50/50\n",
            "51/51 [==============================] - 34s 673ms/step - loss: 15.7526 - acc: 0.0227 - val_loss: 15.7217 - val_acc: 0.0246\n"
          ],
          "name": "stdout"
        }
      ]
    },
    {
      "metadata": {
        "id": "OI_KoYXQln9T",
        "colab_type": "code",
        "colab": {
          "base_uri": "https://localhost:8080/",
          "height": 34
        },
        "outputId": "e841d26e-06a0-4a42-ae6f-624209abebb6"
      },
      "cell_type": "code",
      "source": [
        "# list all data in history\n",
        "print('History keys: {}'.format(history.history.keys()))"
      ],
      "execution_count": 9,
      "outputs": [
        {
          "output_type": "stream",
          "text": [
            "History keys: dict_keys(['val_loss', 'val_acc', 'loss', 'acc'])\n"
          ],
          "name": "stdout"
        }
      ]
    },
    {
      "metadata": {
        "id": "uOygqC_IjieY",
        "colab_type": "code",
        "colab": {
          "base_uri": "https://localhost:8080/",
          "height": 294
        },
        "outputId": "0dd57c1e-2bc4-4112-f52a-20250636fe3d"
      },
      "cell_type": "code",
      "source": [
        "# summarize history for accuracy\n",
        "plt.plot(history.history['acc'])\n",
        "plt.plot(history.history['val_acc'])\n",
        "plt.title('model accuracy')\n",
        "plt.ylabel('accuracy')\n",
        "plt.xlabel('epoch')\n",
        "plt.legend(['train', 'test'], loc='best')\n",
        "plt.show()"
      ],
      "execution_count": 10,
      "outputs": [
        {
          "output_type": "display_data",
          "data": {
            "image/png": "[encoded data removed]",
            "text/plain": [
              "<matplotlib.figure.Figure at 0x7f9c203235c0>"
            ]
          },
          "metadata": {
            "tags": []
          }
        }
      ]
    },
    {
      "metadata": {
        "id": "7EZoaQm-j74M",
        "colab_type": "code",
        "colab": {
          "base_uri": "https://localhost:8080/",
          "height": 294
        },
        "outputId": "ce66ee0c-976b-4a58-e359-f7ba5c68a529"
      },
      "cell_type": "code",
      "source": [
        "# summarize history for loss\n",
        "plt.plot(history.history['loss'])\n",
        "plt.plot(history.history['val_loss'])\n",
        "plt.title('model loss')\n",
        "plt.ylabel('loss')\n",
        "plt.xlabel('epoch')\n",
        "plt.legend(['train', 'test'], loc='best')\n",
        "plt.show()"
      ],
      "execution_count": 11,
      "outputs": [
        {
          "output_type": "display_data",
          "data": {
            "image/png": "[encoded data removed]",
            "text/plain": [
              "<matplotlib.figure.Figure at 0x7f9c20265780>"
            ]
          },
          "metadata": {
            "tags": []
          }
        }
      ]
    },
    {
      "metadata": {
        "id": "qax-oGtAaMSw",
        "colab_type": "code",
        "colab": {
          "base_uri": "https://localhost:8080/",
          "height": 600
        },
        "outputId": "d06902da-9801-4250-9635-c2e639a443d3"
      },
      "cell_type": "code",
      "source": [
        "predictions = model.predict_generator(\n",
        "    test_generator, test_generator.n // test_generator.batch_size, verbose=1\n",
        ")\n",
        "\n",
        "y_pred = np.argmax(predictions, axis=1)\n",
        "y_true = integer_encoding(new_df['class'])\n",
        "\n",
        "print(accuracy_score(y_true, y_pred))\n",
        "print(classification_report(y_true, y_pred))\n",
        "\n",
        "scores = model.evaluate_generator(\n",
        "    test_generator, test_generator.n // test_generator.batch_size, verbose=1\n",
        ")\n",
        "\n",
        "print('The accuracy is: {}'.format(str(scores[1]*100.0)))"
      ],
      "execution_count": 13,
      "outputs": [
        {
          "output_type": "stream",
          "text": [
            "1671/1671 [==============================] - 14s 9ms/step\n",
            "0.011370436864153202\n",
            "              precision    recall  f1-score   support\n",
            "\n",
            "           0       0.01      1.00      0.02        19\n",
            "           1       0.00      0.00      0.00        22\n",
            "           2       0.00      0.00      0.00        51\n",
            "           3       0.00      0.00      0.00         3\n",
            "           4       0.00      0.00      0.00         7\n",
            "           5       0.00      0.00      0.00       217\n",
            "           6       0.00      0.00      0.00       125\n",
            "           7       0.00      0.00      0.00         6\n",
            "           8       0.00      0.00      0.00        59\n",
            "           9       0.00      0.00      0.00         3\n",
            "          10       0.00      0.00      0.00         1\n",
            "          11       0.00      0.00      0.00       274\n",
            "          12       0.00      0.00      0.00        74\n",
            "          13       0.00      0.00      0.00        15\n",
            "          14       0.00      0.00      0.00        19\n",
            "          15       0.00      0.00      0.00         3\n",
            "          16       0.00      0.00      0.00        29\n",
            "          17       0.00      0.00      0.00       325\n",
            "          18       0.00      0.00      0.00       419\n",
            "\n",
            "   micro avg       0.01      0.01      0.01      1671\n",
            "   macro avg       0.00      0.05      0.00      1671\n",
            "weighted avg       0.00      0.01      0.00      1671\n",
            "\n",
            "  17/1671 [..............................] - ETA: 17s"
          ],
          "name": "stdout"
        },
        {
          "output_type": "stream",
          "text": [
            "/usr/local/lib/python3.6/dist-packages/sklearn/metrics/classification.py:1143: UndefinedMetricWarning: Precision and F-score are ill-defined and being set to 0.0 in labels with no predicted samples.\n",
            "  'precision', 'predicted', average, warn_for)\n"
          ],
          "name": "stderr"
        },
        {
          "output_type": "stream",
          "text": [
            "1671/1671 [==============================] - 16s 9ms/step\n",
            "The accuracy is: 3.53081986834231\n"
          ],
          "name": "stdout"
        }
      ]
    },
    {
      "metadata": {
        "id": "wZXMK47qkQJW",
        "colab_type": "code",
        "colab": {}
      },
      "cell_type": "code",
      "source": [
        "savetxt('Trail Scores.txt', scores)\n",
        "savetxt('Trail Predictions.txt', predictions)"
      ],
      "execution_count": 0,
      "outputs": []
    },
    {
      "metadata": {
        "id": "X39EVx22mq82",
        "colab_type": "code",
        "colab": {
          "base_uri": "https://localhost:8080/",
          "height": 668
        },
        "outputId": "66242b17-57a6-46b3-e5b9-42a5f7357dbe"
      },
      "cell_type": "code",
      "source": [
        "# model 2\n",
        "model = Sequential()\n",
        "model.add(Conv2D(32, (3, 3), input_shape=(image_size,image_size,3)))\n",
        "# model.add(Conv2D(32, (3, 3), input_shape=input_shape, use_bias= False, bias_initializer='zeros'))\n",
        "model.add(Activation('relu'))\n",
        "model.add(MaxPooling2D(pool_size=(2, 2)))\n",
        "\n",
        "model.add(Conv2D(32, (3, 3)))\n",
        "model.add(Activation('relu'))\n",
        "model.add(MaxPooling2D(pool_size=(2, 2)))\n",
        "\n",
        "model.add(Conv2D(64, (3, 3)))\n",
        "model.add(Activation('relu'))\n",
        "model.add(MaxPooling2D(pool_size=(2, 2)))\n",
        "\n",
        "model.add(Flatten())\n",
        "model.add(Dense(64))\n",
        "model.add(Activation('relu'))\n",
        "model.add(Dropout(0.5))\n",
        "model.add(Dense(num_classes))\n",
        "model.add(Activation('softmax'))\n",
        "\n",
        "opt = adam(lr=0.00001)\n",
        "model.compile(loss='categorical_crossentropy',\n",
        "             optimizer=opt, metrics=['accuracy'])\n",
        "\n",
        "model.summary()"
      ],
      "execution_count": 14,
      "outputs": [
        {
          "output_type": "stream",
          "text": [
            "_________________________________________________________________\n",
            "Layer (type)                 Output Shape              Param #   \n",
            "=================================================================\n",
            "conv2d_2 (Conv2D)            (None, 254, 254, 32)      896       \n",
            "_________________________________________________________________\n",
            "activation_4 (Activation)    (None, 254, 254, 32)      0         \n",
            "_________________________________________________________________\n",
            "max_pooling2d_2 (MaxPooling2 (None, 127, 127, 32)      0         \n",
            "_________________________________________________________________\n",
            "conv2d_3 (Conv2D)            (None, 125, 125, 32)      9248      \n",
            "_________________________________________________________________\n",
            "activation_5 (Activation)    (None, 125, 125, 32)      0         \n",
            "_________________________________________________________________\n",
            "max_pooling2d_3 (MaxPooling2 (None, 62, 62, 32)        0         \n",
            "_________________________________________________________________\n",
            "conv2d_4 (Conv2D)            (None, 60, 60, 64)        18496     \n",
            "_________________________________________________________________\n",
            "activation_6 (Activation)    (None, 60, 60, 64)        0         \n",
            "_________________________________________________________________\n",
            "max_pooling2d_4 (MaxPooling2 (None, 30, 30, 64)        0         \n",
            "_________________________________________________________________\n",
            "flatten_1 (Flatten)          (None, 57600)             0         \n",
            "_________________________________________________________________\n",
            "dense_2 (Dense)              (None, 64)                3686464   \n",
            "_________________________________________________________________\n",
            "activation_7 (Activation)    (None, 64)                0         \n",
            "_________________________________________________________________\n",
            "dropout_1 (Dropout)          (None, 64)                0         \n",
            "_________________________________________________________________\n",
            "dense_3 (Dense)              (None, 19)                1235      \n",
            "_________________________________________________________________\n",
            "activation_8 (Activation)    (None, 19)                0         \n",
            "=================================================================\n",
            "Total params: 3,716,339\n",
            "Trainable params: 3,716,339\n",
            "Non-trainable params: 0\n",
            "_________________________________________________________________\n"
          ],
          "name": "stdout"
        }
      ]
    },
    {
      "metadata": {
        "id": "gAaJY0XSmzH6",
        "colab_type": "code",
        "colab": {
          "base_uri": "https://localhost:8080/",
          "height": 1777
        },
        "outputId": "262fbb46-2651-4d50-8c4f-947c2ffe18ca"
      },
      "cell_type": "code",
      "source": [
        "csv_logger1 = CSVLogger('trail1_model_training.log')\n",
        "history = model.fit_generator(\n",
        "    train_generator,\n",
        "    steps_per_epoch=math.ceil(train_generator.n//train_generator.batch_size),\n",
        "    epochs=50,\n",
        "    validation_data=validation_generator,\n",
        "    validation_steps=math.ceil(validation_generator.samples //\n",
        "                      validation_generator.batch_size),\n",
        "    callbacks=[csv_logger1, es],\n",
        "    use_multiprocessing=True,\n",
        "    workers=0\n",
        ")"
      ],
      "execution_count": 15,
      "outputs": [
        {
          "output_type": "stream",
          "text": [
            "Epoch 1/50\n",
            "51/51 [==============================] - 31s 611ms/step - loss: 14.2847 - acc: 0.1020 - val_loss: 12.9593 - val_acc: 0.1960\n",
            "Epoch 2/50\n",
            "51/51 [==============================] - 28s 554ms/step - loss: 13.0886 - acc: 0.1869 - val_loss: 12.9593 - val_acc: 0.1960\n",
            "Epoch 3/50\n",
            "51/51 [==============================] - 28s 559ms/step - loss: 13.0805 - acc: 0.1869 - val_loss: 12.9593 - val_acc: 0.1960\n",
            "Epoch 4/50\n",
            "51/51 [==============================] - 29s 569ms/step - loss: 13.0734 - acc: 0.1875 - val_loss: 12.9593 - val_acc: 0.1960\n",
            "Epoch 5/50\n",
            "51/51 [==============================] - 29s 564ms/step - loss: 13.0786 - acc: 0.1851 - val_loss: 12.9593 - val_acc: 0.1960\n",
            "Epoch 6/50\n",
            "51/51 [==============================] - 29s 561ms/step - loss: 13.0679 - acc: 0.1875 - val_loss: 13.5839 - val_acc: 0.1572\n",
            "Epoch 7/50\n",
            "51/51 [==============================] - 28s 553ms/step - loss: 13.0780 - acc: 0.1863 - val_loss: 13.7280 - val_acc: 0.1483\n",
            "Epoch 8/50\n",
            "51/51 [==============================] - 28s 544ms/step - loss: 13.1675 - acc: 0.1802 - val_loss: 13.7280 - val_acc: 0.1483\n",
            "Epoch 9/50\n",
            "51/51 [==============================] - 28s 551ms/step - loss: 13.0746 - acc: 0.1884 - val_loss: 13.7280 - val_acc: 0.1483\n",
            "Epoch 10/50\n",
            "51/51 [==============================] - 28s 544ms/step - loss: 13.0975 - acc: 0.1863 - val_loss: 13.1875 - val_acc: 0.1818\n",
            "Epoch 11/50\n",
            "51/51 [==============================] - 29s 560ms/step - loss: 13.0905 - acc: 0.1866 - val_loss: 12.9593 - val_acc: 0.1960\n",
            "Epoch 12/50\n",
            "51/51 [==============================] - 28s 552ms/step - loss: 13.0784 - acc: 0.1872 - val_loss: 12.9593 - val_acc: 0.1960\n",
            "Epoch 13/50\n",
            "51/51 [==============================] - 28s 553ms/step - loss: 13.1172 - acc: 0.1845 - val_loss: 12.9593 - val_acc: 0.1960\n",
            "Epoch 14/50\n",
            "51/51 [==============================] - 28s 559ms/step - loss: 13.0966 - acc: 0.1869 - val_loss: 12.9593 - val_acc: 0.1960\n",
            "Epoch 15/50\n",
            "51/51 [==============================] - 29s 571ms/step - loss: 13.0814 - acc: 0.1878 - val_loss: 12.9593 - val_acc: 0.1960\n",
            "Epoch 16/50\n",
            "51/51 [==============================] - 29s 561ms/step - loss: 13.0879 - acc: 0.1875 - val_loss: 12.9593 - val_acc: 0.1960\n",
            "Epoch 17/50\n",
            "51/51 [==============================] - 29s 565ms/step - loss: 13.0856 - acc: 0.1860 - val_loss: 12.9640 - val_acc: 0.1957\n",
            "Epoch 18/50\n",
            "51/51 [==============================] - 29s 561ms/step - loss: 13.0970 - acc: 0.1869 - val_loss: 12.9593 - val_acc: 0.1960\n",
            "Epoch 19/50\n",
            "51/51 [==============================] - 28s 557ms/step - loss: 13.0802 - acc: 0.1878 - val_loss: 12.9593 - val_acc: 0.1960\n",
            "Epoch 20/50\n",
            "51/51 [==============================] - 28s 556ms/step - loss: 13.0883 - acc: 0.1872 - val_loss: 12.9593 - val_acc: 0.1960\n",
            "Epoch 21/50\n",
            "51/51 [==============================] - 28s 557ms/step - loss: 13.0810 - acc: 0.1872 - val_loss: 12.9593 - val_acc: 0.1960\n",
            "Epoch 22/50\n",
            "51/51 [==============================] - 29s 563ms/step - loss: 13.0916 - acc: 0.1872 - val_loss: 12.9593 - val_acc: 0.1960\n",
            "Epoch 23/50\n",
            "51/51 [==============================] - 28s 552ms/step - loss: 13.0970 - acc: 0.1863 - val_loss: 12.9593 - val_acc: 0.1960\n",
            "Epoch 24/50\n",
            "51/51 [==============================] - 28s 553ms/step - loss: 13.0810 - acc: 0.1872 - val_loss: 12.9593 - val_acc: 0.1960\n",
            "Epoch 25/50\n",
            "51/51 [==============================] - 28s 551ms/step - loss: 13.0812 - acc: 0.1860 - val_loss: 12.9593 - val_acc: 0.1960\n",
            "Epoch 26/50\n",
            "51/51 [==============================] - 29s 564ms/step - loss: 13.0866 - acc: 0.1866 - val_loss: 12.9593 - val_acc: 0.1960\n",
            "Epoch 27/50\n",
            "51/51 [==============================] - 28s 553ms/step - loss: 13.0857 - acc: 0.1863 - val_loss: 12.9593 - val_acc: 0.1960\n",
            "Epoch 28/50\n",
            "51/51 [==============================] - 28s 556ms/step - loss: 13.0702 - acc: 0.1866 - val_loss: 13.5839 - val_acc: 0.1572\n",
            "Epoch 29/50\n",
            "51/51 [==============================] - 28s 559ms/step - loss: 13.2529 - acc: 0.1753 - val_loss: 13.7280 - val_acc: 0.1483\n",
            "Epoch 30/50\n",
            "51/51 [==============================] - 28s 556ms/step - loss: 13.3901 - acc: 0.1673 - val_loss: 13.7280 - val_acc: 0.1483\n",
            "Epoch 31/50\n",
            "51/51 [==============================] - 28s 544ms/step - loss: 13.3935 - acc: 0.1676 - val_loss: 13.7280 - val_acc: 0.1483\n",
            "Epoch 32/50\n",
            "51/51 [==============================] - 28s 548ms/step - loss: 13.3887 - acc: 0.1676 - val_loss: 13.1875 - val_acc: 0.1818\n",
            "Epoch 33/50\n",
            "51/51 [==============================] - 28s 551ms/step - loss: 13.3753 - acc: 0.1682 - val_loss: 12.9593 - val_acc: 0.1960\n",
            "Epoch 34/50\n",
            "51/51 [==============================] - 28s 543ms/step - loss: 13.3758 - acc: 0.1630 - val_loss: 12.9593 - val_acc: 0.1960\n",
            "Epoch 35/50\n",
            "51/51 [==============================] - 28s 549ms/step - loss: 13.3085 - acc: 0.1599 - val_loss: 12.9593 - val_acc: 0.1960\n",
            "Epoch 36/50\n",
            "51/51 [==============================] - 28s 545ms/step - loss: 12.8070 - acc: 0.1430 - val_loss: 12.7554 - val_acc: 0.1960\n",
            "Epoch 37/50\n",
            "51/51 [==============================] - 29s 567ms/step - loss: 9.8903 - acc: 0.1642 - val_loss: 12.2370 - val_acc: 0.2027\n",
            "Epoch 38/50\n",
            "51/51 [==============================] - 28s 555ms/step - loss: 8.1334 - acc: 0.1926 - val_loss: 9.1938 - val_acc: 0.2012\n",
            "Epoch 39/50\n",
            "51/51 [==============================] - 28s 552ms/step - loss: 4.5619 - acc: 0.1975 - val_loss: 2.9399 - val_acc: 0.1577\n",
            "Epoch 40/50\n",
            "51/51 [==============================] - 28s 552ms/step - loss: 2.9399 - acc: 0.1997 - val_loss: 2.9393 - val_acc: 0.1565\n",
            "Epoch 41/50\n",
            "51/51 [==============================] - 28s 555ms/step - loss: 5.6592 - acc: 0.1730 - val_loss: 9.1623 - val_acc: 0.2094\n",
            "Epoch 42/50\n",
            "51/51 [==============================] - 28s 548ms/step - loss: 6.2703 - acc: 0.1924 - val_loss: 2.8872 - val_acc: 0.2951\n",
            "Epoch 43/50\n",
            "51/51 [==============================] - 29s 571ms/step - loss: 2.9632 - acc: 0.1997 - val_loss: 2.9376 - val_acc: 0.1900\n",
            "Epoch 44/50\n",
            "51/51 [==============================] - 28s 557ms/step - loss: 2.9380 - acc: 0.1997 - val_loss: 2.9371 - val_acc: 0.2034\n",
            "Epoch 45/50\n",
            "51/51 [==============================] - 28s 557ms/step - loss: 2.9375 - acc: 0.1997 - val_loss: 2.9368 - val_acc: 0.2034\n",
            "Epoch 46/50\n",
            "51/51 [==============================] - 28s 547ms/step - loss: 2.9370 - acc: 0.1997 - val_loss: 2.9364 - val_acc: 0.2034\n",
            "Epoch 47/50\n",
            "51/51 [==============================] - 28s 550ms/step - loss: 2.9366 - acc: 0.1997 - val_loss: 2.9357 - val_acc: 0.2034\n",
            "Epoch 48/50\n",
            "51/51 [==============================] - 28s 558ms/step - loss: 2.9362 - acc: 0.1997 - val_loss: 2.9349 - val_acc: 0.2034\n",
            "Epoch 49/50\n",
            "51/51 [==============================] - 28s 542ms/step - loss: 2.9358 - acc: 0.1997 - val_loss: 2.9347 - val_acc: 0.2034\n",
            "Epoch 50/50\n",
            "51/51 [==============================] - 28s 549ms/step - loss: 2.9355 - acc: 0.1997 - val_loss: 2.9346 - val_acc: 0.2034\n"
          ],
          "name": "stdout"
        }
      ]
    },
    {
      "metadata": {
        "id": "3Y8RVSQR9P2M",
        "colab_type": "code",
        "colab": {
          "base_uri": "https://localhost:8080/",
          "height": 294
        },
        "outputId": "7553dfe2-57eb-4553-82c7-e3b7a0d4c17a"
      },
      "cell_type": "code",
      "source": [
        "# summarize history for accuracy\n",
        "plt.plot(history.history['acc'])\n",
        "plt.plot(history.history['val_acc'])\n",
        "plt.title('model accuracy')\n",
        "plt.ylabel('accuracy')\n",
        "plt.xlabel('epoch')\n",
        "plt.legend(['train', 'test'], loc='best')\n",
        "plt.show()"
      ],
      "execution_count": 16,
      "outputs": [
        {
          "output_type": "display_data",
          "data": {
            "image/png": "[encoded data removed]",
            "text/plain": [
              "<matplotlib.figure.Figure at 0x7f9c082d9d30>"
            ]
          },
          "metadata": {
            "tags": []
          }
        }
      ]
    },
    {
      "metadata": {
        "id": "Lc1U8W6a9V5X",
        "colab_type": "code",
        "colab": {
          "base_uri": "https://localhost:8080/",
          "height": 294
        },
        "outputId": "15510206-b807-47c9-88c1-b00a5154057f"
      },
      "cell_type": "code",
      "source": [
        "# summarize history for loss\n",
        "plt.plot(history.history['loss'])\n",
        "plt.plot(history.history['val_loss'])\n",
        "plt.title('model loss')\n",
        "plt.ylabel('loss')\n",
        "plt.xlabel('epoch')\n",
        "plt.legend(['train', 'test'], loc='best')\n",
        "plt.show()"
      ],
      "execution_count": 17,
      "outputs": [
        {
          "output_type": "display_data",
          "data": {
            "image/png": "[encoded data removed]",
            "text/plain": [
              "<matplotlib.figure.Figure at 0x7f9c082e9ba8>"
            ]
          },
          "metadata": {
            "tags": []
          }
        }
      ]
    },
    {
      "metadata": {
        "id": "ho43kgSN35d5",
        "colab_type": "code",
        "colab": {
          "base_uri": "https://localhost:8080/",
          "height": 600
        },
        "outputId": "9a2a3f26-6977-4547-8209-3f6da3a68acd"
      },
      "cell_type": "code",
      "source": [
        "predictions = model.predict_generator(\n",
        "    test_generator, test_generator.n // test_generator.batch_size, verbose=1\n",
        ")\n",
        "\n",
        "y_pred = np.argmax(predictions, axis=1)\n",
        "y_true = integer_encoding(new_df['class'])\n",
        "\n",
        "print(accuracy_score(y_true, y_pred))\n",
        "print(classification_report(y_true, y_pred))\n",
        "\n",
        "scores = model.evaluate_generator(\n",
        "    test_generator, test_generator.n // test_generator.batch_size, verbose=1\n",
        ")\n",
        "\n",
        "print('The accuracy is: {}'.format(str(scores[1]*100.0)))"
      ],
      "execution_count": 18,
      "outputs": [
        {
          "output_type": "stream",
          "text": [
            "1671/1671 [==============================] - 10s 6ms/step\n",
            "0.25074805505685216\n",
            "              precision    recall  f1-score   support\n",
            "\n",
            "           0       0.00      0.00      0.00        19\n",
            "           1       0.00      0.00      0.00        22\n",
            "           2       0.00      0.00      0.00        51\n",
            "           3       0.00      0.00      0.00         3\n",
            "           4       0.00      0.00      0.00         7\n",
            "           5       0.00      0.00      0.00       217\n",
            "           6       0.00      0.00      0.00       125\n",
            "           7       0.00      0.00      0.00         6\n",
            "           8       0.00      0.00      0.00        59\n",
            "           9       0.00      0.00      0.00         3\n",
            "          10       0.00      0.00      0.00         1\n",
            "          11       0.00      0.00      0.00       274\n",
            "          12       0.00      0.00      0.00        74\n",
            "          13       0.00      0.00      0.00        15\n",
            "          14       0.00      0.00      0.00        19\n",
            "          15       0.00      0.00      0.00         3\n",
            "          16       0.00      0.00      0.00        29\n",
            "          17       0.00      0.00      0.00       325\n",
            "          18       0.25      1.00      0.40       419\n",
            "\n",
            "   micro avg       0.25      0.25      0.25      1671\n",
            "   macro avg       0.01      0.05      0.02      1671\n",
            "weighted avg       0.06      0.25      0.10      1671\n",
            "\n",
            "  26/1671 [..............................] - ETA: 10s"
          ],
          "name": "stdout"
        },
        {
          "output_type": "stream",
          "text": [
            "/usr/local/lib/python3.6/dist-packages/sklearn/metrics/classification.py:1143: UndefinedMetricWarning: Precision and F-score are ill-defined and being set to 0.0 in labels with no predicted samples.\n",
            "  'precision', 'predicted', average, warn_for)\n"
          ],
          "name": "stderr"
        },
        {
          "output_type": "stream",
          "text": [
            "1671/1671 [==============================] - 10s 6ms/step\n",
            "The accuracy is: 0.17953321364452424\n"
          ],
          "name": "stdout"
        }
      ]
    },
    {
      "metadata": {
        "id": "mbJRVebjZm3P",
        "colab_type": "code",
        "colab": {
          "base_uri": "https://localhost:8080/",
          "height": 54
        },
        "outputId": "69ed2352-0dcc-4e93-ef7c-fea83c69b22d"
      },
      "cell_type": "code",
      "source": [
        "predictions = np.argmax(predictions, axis=-1) #multiple categories\n",
        "label_map = (train_generator.class_indices)\n",
        "label_map = dict((v,k) for k,v in label_map.items()) #flip k,v\n",
        "predictions = [label_map[k] for k in predictions]\n",
        "print(predictions)"
      ],
      "execution_count": 19,
      "outputs": [
        {
          "output_type": "stream",
          "text": [
            "['Water', 'Water', 'Water', 'Water', 'Water', 'Water', 'Water', 'Water', 'Water', 'Water', 'Water', 'Water', 'Water', 'Water', 'Water', 'Water', 'Water', 'Water', 'Water', 'Water', 'Water', 'Water', 'Water', 'Water', 'Water', 'Water', 'Water', 'Water', 'Water', 'Water', 'Water', 'Water', 'Water', 'Water', 'Water', 'Water', 'Water', 'Water', 'Water', 'Water', 'Water', 'Water', 'Water', 'Water', 'Water', 'Water', 'Water', 'Water', 'Water', 'Water', 'Water', 'Water', 'Water', 'Water', 'Water', 'Water', 'Water', 'Water', 'Water', 'Water', 'Water', 'Water', 'Water', 'Water', 'Water', 'Water', 'Water', 'Water', 'Water', 'Water', 'Water', 'Water', 'Water', 'Water', 'Water', 'Water', 'Water', 'Water', 'Water', 'Water', 'Water', 'Water', 'Water', 'Water', 'Water', 'Water', 'Water', 'Water', 'Water', 'Water', 'Water', 'Water', 'Water', 'Water', 'Water', 'Water', 'Water', 'Water', 'Water', 'Water', 'Water', 'Water', 'Water', 'Water', 'Water', 'Water', 'Water', 'Water', 'Water', 'Water', 'Water', 'Water', 'Water', 'Water', 'Water', 'Water', 'Water', 'Water', 'Water', 'Water', 'Water', 'Water', 'Water', 'Water', 'Water', 'Water', 'Water', 'Water', 'Water', 'Water', 'Water', 'Water', 'Water', 'Water', 'Water', 'Water', 'Water', 'Water', 'Water', 'Water', 'Water', 'Water', 'Water', 'Water', 'Water', 'Water', 'Water', 'Water', 'Water', 'Water', 'Water', 'Water', 'Water', 'Water', 'Water', 'Water', 'Water', 'Water', 'Water', 'Water', 'Water', 'Water', 'Water', 'Water', 'Water', 'Water', 'Water', 'Water', 'Water', 'Water', 'Water', 'Water', 'Water', 'Water', 'Water', 'Water', 'Water', 'Water', 'Water', 'Water', 'Water', 'Water', 'Water', 'Water', 'Water', 'Water', 'Water', 'Water', 'Water', 'Water', 'Water', 'Water', 'Water', 'Water', 'Water', 'Water', 'Water', 'Water', 'Water', 'Water', 'Water', 'Water', 'Water', 'Water', 'Water', 'Water', 'Water', 'Water', 'Water', 'Water', 'Water', 'Water', 'Water', 'Water', 'Water', 'Water', 'Water', 'Water', 'Water', 'Water', 'Water', 'Water', 'Water', 'Water', 'Water', 'Water', 'Water', 'Water', 'Water', 'Water', 'Water', 'Water', 'Water', 'Water', 'Water', 'Water', 'Water', 'Water', 'Water', 'Water', 'Water', 'Water', 'Water', 'Water', 'Water', 'Water', 'Water', 'Water', 'Water', 'Water', 'Water', 'Water', 'Water', 'Water', 'Water', 'Water', 'Water', 'Water', 'Water', 'Water', 'Water', 'Water', 'Water', 'Water', 'Water', 'Water', 'Water', 'Water', 'Water', 'Water', 'Water', 'Water', 'Water', 'Water', 'Water', 'Water', 'Water', 'Water', 'Water', 'Water', 'Water', 'Water', 'Water', 'Water', 'Water', 'Water', 'Water', 'Water', 'Water', 'Water', 'Water', 'Water', 'Water', 'Water', 'Water', 'Water', 'Water', 'Water', 'Water', 'Water', 'Water', 'Water', 'Water', 'Water', 'Water', 'Water', 'Water', 'Water', 'Water', 'Water', 'Water', 'Water', 'Water', 'Water', 'Water', 'Water', 'Water', 'Water', 'Water', 'Water', 'Water', 'Water', 'Water', 'Water', 'Water', 'Water', 'Water', 'Water', 'Water', 'Water', 'Water', 'Water', 'Water', 'Water', 'Water', 'Water', 'Water', 'Water', 'Water', 'Water', 'Water', 'Water', 'Water', 'Water', 'Water', 'Water', 'Water', 'Water', 'Water', 'Water', 'Water', 'Water', 'Water', 'Water', 'Water', 'Water', 'Water', 'Water', 'Water', 'Water', 'Water', 'Water', 'Water', 'Water', 'Water', 'Water', 'Water', 'Water', 'Water', 'Water', 'Water', 'Water', 'Water', 'Water', 'Water', 'Water', 'Water', 'Water', 'Water', 'Water', 'Water', 'Water', 'Water', 'Water', 'Water', 'Water', 'Water', 'Water', 'Water', 'Water', 'Water', 'Water', 'Water', 'Water', 'Water', 'Water', 'Water', 'Water', 'Water', 'Water', 'Water', 'Water', 'Water', 'Water', 'Water', 'Water', 'Water', 'Water', 'Water', 'Water', 'Water', 'Water', 'Water', 'Water', 'Water', 'Water', 'Water', 'Water', 'Water', 'Water', 'Water', 'Water', 'Water', 'Water', 'Water', 'Water', 'Water', 'Water', 'Water', 'Water', 'Water', 'Water', 'Water', 'Water', 'Water', 'Water', 'Water', 'Water', 'Water', 'Water', 'Water', 'Water', 'Water', 'Water', 'Water', 'Water', 'Water', 'Water', 'Water', 'Water', 'Water', 'Water', 'Water', 'Water', 'Water', 'Water', 'Water', 'Water', 'Water', 'Water', 'Water', 'Water', 'Water', 'Water', 'Water', 'Water', 'Water', 'Water', 'Water', 'Water', 'Water', 'Water', 'Water', 'Water', 'Water', 'Water', 'Water', 'Water', 'Water', 'Water', 'Water', 'Water', 'Water', 'Water', 'Water', 'Water', 'Water', 'Water', 'Water', 'Water', 'Water', 'Water', 'Water', 'Water', 'Water', 'Water', 'Water', 'Water', 'Water', 'Water', 'Water', 'Water', 'Water', 'Water', 'Water', 'Water', 'Water', 'Water', 'Water', 'Water', 'Water', 'Water', 'Water', 'Water', 'Water', 'Water', 'Water', 'Water', 'Water', 'Water', 'Water', 'Water', 'Water', 'Water', 'Water', 'Water', 'Water', 'Water', 'Water', 'Water', 'Water', 'Water', 'Water', 'Water', 'Water', 'Water', 'Water', 'Water', 'Water', 'Water', 'Water', 'Water', 'Water', 'Water', 'Water', 'Water', 'Water', 'Water', 'Water', 'Water', 'Water', 'Water', 'Water', 'Water', 'Water', 'Water', 'Water', 'Water', 'Water', 'Water', 'Water', 'Water', 'Water', 'Water', 'Water', 'Water', 'Water', 'Water', 'Water', 'Water', 'Water', 'Water', 'Water', 'Water', 'Water', 'Water', 'Water', 'Water', 'Water', 'Water', 'Water', 'Water', 'Water', 'Water', 'Water', 'Water', 'Water', 'Water', 'Water', 'Water', 'Water', 'Water', 'Water', 'Water', 'Water', 'Water', 'Water', 'Water', 'Water', 'Water', 'Water', 'Water', 'Water', 'Water', 'Water', 'Water', 'Water', 'Water', 'Water', 'Water', 'Water', 'Water', 'Water', 'Water', 'Water', 'Water', 'Water', 'Water', 'Water', 'Water', 'Water', 'Water', 'Water', 'Water', 'Water', 'Water', 'Water', 'Water', 'Water', 'Water', 'Water', 'Water', 'Water', 'Water', 'Water', 'Water', 'Water', 'Water', 'Water', 'Water', 'Water', 'Water', 'Water', 'Water', 'Water', 'Water', 'Water', 'Water', 'Water', 'Water', 'Water', 'Water', 'Water', 'Water', 'Water', 'Water', 'Water', 'Water', 'Water', 'Water', 'Water', 'Water', 'Water', 'Water', 'Water', 'Water', 'Water', 'Water', 'Water', 'Water', 'Water', 'Water', 'Water', 'Water', 'Water', 'Water', 'Water', 'Water', 'Water', 'Water', 'Water', 'Water', 'Water', 'Water', 'Water', 'Water', 'Water', 'Water', 'Water', 'Water', 'Water', 'Water', 'Water', 'Water', 'Water', 'Water', 'Water', 'Water', 'Water', 'Water', 'Water', 'Water', 'Water', 'Water', 'Water', 'Water', 'Water', 'Water', 'Water', 'Water', 'Water', 'Water', 'Water', 'Water', 'Water', 'Water', 'Water', 'Water', 'Water', 'Water', 'Water', 'Water', 'Water', 'Water', 'Water', 'Water', 'Water', 'Water', 'Water', 'Water', 'Water', 'Water', 'Water', 'Water', 'Water', 'Water', 'Water', 'Water', 'Water', 'Water', 'Water', 'Water', 'Water', 'Water', 'Water', 'Water', 'Water', 'Water', 'Water', 'Water', 'Water', 'Water', 'Water', 'Water', 'Water', 'Water', 'Water', 'Water', 'Water', 'Water', 'Water', 'Water', 'Water', 'Water', 'Water', 'Water', 'Water', 'Water', 'Water', 'Water', 'Water', 'Water', 'Water', 'Water', 'Water', 'Water', 'Water', 'Water', 'Water', 'Water', 'Water', 'Water', 'Water', 'Water', 'Water', 'Water', 'Water', 'Water', 'Water', 'Water', 'Water', 'Water', 'Water', 'Water', 'Water', 'Water', 'Water', 'Water', 'Water', 'Water', 'Water', 'Water', 'Water', 'Water', 'Water', 'Water', 'Water', 'Water', 'Water', 'Water', 'Water', 'Water', 'Water', 'Water', 'Water', 'Water', 'Water', 'Water', 'Water', 'Water', 'Water', 'Water', 'Water', 'Water', 'Water', 'Water', 'Water', 'Water', 'Water', 'Water', 'Water', 'Water', 'Water', 'Water', 'Water', 'Water', 'Water', 'Water', 'Water', 'Water', 'Water', 'Water', 'Water', 'Water', 'Water', 'Water', 'Water', 'Water', 'Water', 'Water', 'Water', 'Water', 'Water', 'Water', 'Water', 'Water', 'Water', 'Water', 'Water', 'Water', 'Water', 'Water', 'Water', 'Water', 'Water', 'Water', 'Water', 'Water', 'Water', 'Water', 'Water', 'Water', 'Water', 'Water', 'Water', 'Water', 'Water', 'Water', 'Water', 'Water', 'Water', 'Water', 'Water', 'Water', 'Water', 'Water', 'Water', 'Water', 'Water', 'Water', 'Water', 'Water', 'Water', 'Water', 'Water', 'Water', 'Water', 'Water', 'Water', 'Water', 'Water', 'Water', 'Water', 'Water', 'Water', 'Water', 'Water', 'Water', 'Water', 'Water', 'Water', 'Water', 'Water', 'Water', 'Water', 'Water', 'Water', 'Water', 'Water', 'Water', 'Water', 'Water', 'Water', 'Water', 'Water', 'Water', 'Water', 'Water', 'Water', 'Water', 'Water', 'Water', 'Water', 'Water', 'Water', 'Water', 'Water', 'Water', 'Water', 'Water', 'Water', 'Water', 'Water', 'Water', 'Water', 'Water', 'Water', 'Water', 'Water', 'Water', 'Water', 'Water', 'Water', 'Water', 'Water', 'Water', 'Water', 'Water', 'Water', 'Water', 'Water', 'Water', 'Water', 'Water', 'Water', 'Water', 'Water', 'Water', 'Water', 'Water', 'Water', 'Water', 'Water', 'Water', 'Water', 'Water', 'Water', 'Water', 'Water', 'Water', 'Water', 'Water', 'Water', 'Water', 'Water', 'Water', 'Water', 'Water', 'Water', 'Water', 'Water', 'Water', 'Water', 'Water', 'Water', 'Water', 'Water', 'Water', 'Water', 'Water', 'Water', 'Water', 'Water', 'Water', 'Water', 'Water', 'Water', 'Water', 'Water', 'Water', 'Water', 'Water', 'Water', 'Water', 'Water', 'Water', 'Water', 'Water', 'Water', 'Water', 'Water', 'Water', 'Water', 'Water', 'Water', 'Water', 'Water', 'Water', 'Water', 'Water', 'Water', 'Water', 'Water', 'Water', 'Water', 'Water', 'Water', 'Water', 'Water', 'Water', 'Water', 'Water', 'Water', 'Water', 'Water', 'Water', 'Water', 'Water', 'Water', 'Water', 'Water', 'Water', 'Water', 'Water', 'Water', 'Water', 'Water', 'Water', 'Water', 'Water', 'Water', 'Water', 'Water', 'Water', 'Water', 'Water', 'Water', 'Water', 'Water', 'Water', 'Water', 'Water', 'Water', 'Water', 'Water', 'Water', 'Water', 'Water', 'Water', 'Water', 'Water', 'Water', 'Water', 'Water', 'Water', 'Water', 'Water', 'Water', 'Water', 'Water', 'Water', 'Water', 'Water', 'Water', 'Water', 'Water', 'Water', 'Water', 'Water', 'Water', 'Water', 'Water', 'Water', 'Water', 'Water', 'Water', 'Water', 'Water', 'Water', 'Water', 'Water', 'Water', 'Water', 'Water', 'Water', 'Water', 'Water', 'Water', 'Water', 'Water', 'Water', 'Water', 'Water', 'Water', 'Water', 'Water', 'Water', 'Water', 'Water', 'Water', 'Water', 'Water', 'Water', 'Water', 'Water', 'Water', 'Water', 'Water', 'Water', 'Water', 'Water', 'Water', 'Water', 'Water', 'Water', 'Water', 'Water', 'Water', 'Water', 'Water', 'Water', 'Water', 'Water', 'Water', 'Water', 'Water', 'Water', 'Water', 'Water', 'Water', 'Water', 'Water', 'Water', 'Water', 'Water', 'Water', 'Water', 'Water', 'Water', 'Water', 'Water', 'Water', 'Water', 'Water', 'Water', 'Water', 'Water', 'Water', 'Water', 'Water', 'Water', 'Water', 'Water', 'Water', 'Water', 'Water', 'Water', 'Water', 'Water', 'Water', 'Water', 'Water', 'Water', 'Water', 'Water', 'Water', 'Water', 'Water', 'Water', 'Water', 'Water', 'Water', 'Water', 'Water', 'Water', 'Water', 'Water', 'Water', 'Water', 'Water', 'Water', 'Water', 'Water', 'Water', 'Water', 'Water', 'Water', 'Water', 'Water', 'Water', 'Water', 'Water', 'Water', 'Water', 'Water', 'Water', 'Water', 'Water', 'Water', 'Water', 'Water', 'Water', 'Water', 'Water', 'Water', 'Water', 'Water', 'Water', 'Water', 'Water', 'Water', 'Water', 'Water', 'Water', 'Water', 'Water', 'Water', 'Water', 'Water', 'Water', 'Water', 'Water', 'Water', 'Water', 'Water', 'Water', 'Water', 'Water', 'Water', 'Water', 'Water', 'Water', 'Water', 'Water', 'Water', 'Water', 'Water', 'Water', 'Water', 'Water', 'Water', 'Water', 'Water', 'Water', 'Water', 'Water', 'Water', 'Water', 'Water', 'Water', 'Water', 'Water', 'Water', 'Water', 'Water', 'Water', 'Water', 'Water', 'Water', 'Water', 'Water', 'Water', 'Water', 'Water', 'Water', 'Water', 'Water', 'Water', 'Water', 'Water', 'Water', 'Water', 'Water', 'Alilaguna', 'Water', 'Water', 'Water', 'Water', 'Water', 'Water', 'Water', 'Water', 'Water', 'Water', 'Water', 'Water', 'Water', 'Water', 'Water', 'Water', 'Water', 'Water', 'Water', 'Water', 'Water', 'Water', 'Water', 'Water', 'Water', 'Water', 'Water', 'Water', 'Water', 'Water', 'Water', 'Water', 'Water', 'Water', 'Water', 'Water', 'Water', 'Water', 'Water', 'Water', 'Water', 'Water', 'Water', 'Water', 'Water', 'Water', 'Water', 'Water', 'Water', 'Water', 'Water', 'Water', 'Water', 'Water', 'Water', 'Water', 'Water', 'Water', 'Water', 'Water', 'Water', 'Water', 'Water', 'Water', 'Water', 'Water', 'Water', 'Water', 'Water', 'Water', 'Water', 'Water', 'Water', 'Water', 'Water', 'Water', 'Water', 'Water', 'Water', 'Water', 'Water', 'Water', 'Water', 'Alilaguna', 'Water', 'Water', 'Water', 'Water', 'Water', 'Water', 'Water', 'Water', 'Water', 'Water', 'Water', 'Water', 'Water', 'Water', 'Water', 'Water', 'Water', 'Water', 'Water', 'Water', 'Water', 'Water', 'Water', 'Water', 'Water', 'Water', 'Water', 'Water', 'Water', 'Water', 'Water', 'Water', 'Water', 'Water', 'Water', 'Water', 'Water', 'Water', 'Water', 'Water', 'Water', 'Water', 'Water', 'Water', 'Water', 'Water', 'Water', 'Water', 'Water', 'Water', 'Water', 'Water', 'Water', 'Water', 'Water', 'Water', 'Water', 'Water', 'Water', 'Water', 'Water', 'Water', 'Water', 'Water', 'Water', 'Water', 'Water', 'Water', 'Water', 'Water', 'Water', 'Water', 'Water', 'Water', 'Water', 'Water', 'Water', 'Water', 'Water', 'Water', 'Water', 'Water', 'Water', 'Water', 'Water', 'Water', 'Water', 'Water', 'Water', 'Water', 'Water', 'Water', 'Water', 'Water', 'Water', 'Water', 'Water', 'Water', 'Water', 'Water', 'Water', 'Water', 'Water', 'Water', 'Water', 'Water', 'Water', 'Water', 'Water', 'Water', 'Water', 'Water', 'Water', 'Water', 'Water', 'Water', 'Water', 'Water', 'Water', 'Water', 'Water', 'Water', 'Water', 'Water', 'Water', 'Water', 'Water', 'Water', 'Water', 'Water', 'Water', 'Water', 'Water', 'Water', 'Water', 'Water', 'Water', 'Water', 'Water', 'Water', 'Water', 'Water', 'Water', 'Water', 'Water', 'Water', 'Water', 'Water', 'Water', 'Water', 'Water', 'Water', 'Water', 'Water', 'Water', 'Water', 'Water', 'Water', 'Water', 'Water', 'Water', 'Water', 'Water', 'Water', 'Water', 'Water', 'Water', 'Water', 'Water', 'Water', 'Water', 'Water', 'Water', 'Water', 'Water', 'Water', 'Water', 'Water', 'Water', 'Water', 'Water', 'Water', 'Water', 'Water', 'Water', 'Water', 'Water', 'Water', 'Water', 'Water', 'Water', 'Water', 'Water', 'Water', 'Water', 'Water', 'Water', 'Water', 'Water', 'Water', 'Water', 'Water', 'Water', 'Water', 'Water', 'Water', 'Water', 'Water', 'Water', 'Water', 'Water', 'Water', 'Water', 'Water', 'Water', 'Water', 'Water', 'Water', 'Water', 'Water', 'Water', 'Water', 'Water', 'Water', 'Water', 'Water', 'Water', 'Water', 'Water', 'Water', 'Water', 'Water', 'Water', 'Water', 'Water', 'Water', 'Water', 'Water', 'Water', 'Water', 'Water', 'Water', 'Water', 'Water', 'Water', 'Water', 'Water', 'Water', 'Water', 'Water', 'Water', 'Water', 'Water', 'Water', 'Water', 'Water', 'Water', 'Water', 'Water', 'Water', 'Water', 'Water', 'Water', 'Water', 'Water', 'Water', 'Water', 'Water', 'Water', 'Water', 'Water', 'Water', 'Water', 'Water', 'Water', 'Water', 'Water', 'Water', 'Water', 'Water', 'Water', 'Water', 'Water']\n"
          ],
          "name": "stdout"
        }
      ]
    },
    {
      "metadata": {
        "id": "LBm50MgQNYO1",
        "colab_type": "code",
        "colab": {
          "base_uri": "https://localhost:8080/",
          "height": 562
        },
        "outputId": "4261a759-872b-4bd2-b293-72ce9dd54d7f"
      },
      "cell_type": "code",
      "source": [
        "# model 3\n",
        "model = Sequential()\n",
        "\n",
        "model.add(Conv2D(20,(3,3),input_shape=(image_size, image_size, 3)))\n",
        "model.add(Activation('relu'))\n",
        "model.add(Dropout(0.5))\n",
        "\n",
        "model.add(Conv2D(20,(3,3)))\n",
        "model.add(Activation('relu'))\n",
        "model.add(Dropout(0.5))\n",
        "\n",
        "\n",
        "model.add(Flatten())\n",
        "model.add(Dense(80))\n",
        "model.add(Activation('relu'))\n",
        "model.add(Dropout(0.5))\n",
        "\n",
        "model.add(Dense(num_classes))\n",
        "model.add(Activation('softmax'))\n",
        "\n",
        "opt = adam(lr=0.00001)\n",
        "model.compile(loss='categorical_crossentropy',\n",
        "             optimizer=opt, metrics=['accuracy'])\n",
        "model.summary()"
      ],
      "execution_count": 20,
      "outputs": [
        {
          "output_type": "stream",
          "text": [
            "_________________________________________________________________\n",
            "Layer (type)                 Output Shape              Param #   \n",
            "=================================================================\n",
            "conv2d_5 (Conv2D)            (None, 254, 254, 20)      560       \n",
            "_________________________________________________________________\n",
            "activation_9 (Activation)    (None, 254, 254, 20)      0         \n",
            "_________________________________________________________________\n",
            "dropout_2 (Dropout)          (None, 254, 254, 20)      0         \n",
            "_________________________________________________________________\n",
            "conv2d_6 (Conv2D)            (None, 252, 252, 20)      3620      \n",
            "_________________________________________________________________\n",
            "activation_10 (Activation)   (None, 252, 252, 20)      0         \n",
            "_________________________________________________________________\n",
            "dropout_3 (Dropout)          (None, 252, 252, 20)      0         \n",
            "_________________________________________________________________\n",
            "flatten_2 (Flatten)          (None, 1270080)           0         \n",
            "_________________________________________________________________\n",
            "dense_4 (Dense)              (None, 80)                101606480 \n",
            "_________________________________________________________________\n",
            "activation_11 (Activation)   (None, 80)                0         \n",
            "_________________________________________________________________\n",
            "dropout_4 (Dropout)          (None, 80)                0         \n",
            "_________________________________________________________________\n",
            "dense_5 (Dense)              (None, 19)                1539      \n",
            "_________________________________________________________________\n",
            "activation_12 (Activation)   (None, 19)                0         \n",
            "=================================================================\n",
            "Total params: 101,612,199\n",
            "Trainable params: 101,612,199\n",
            "Non-trainable params: 0\n",
            "_________________________________________________________________\n"
          ],
          "name": "stdout"
        }
      ]
    },
    {
      "metadata": {
        "id": "4hZPNs6YNkQu",
        "colab_type": "code",
        "colab": {
          "base_uri": "https://localhost:8080/",
          "height": 1777
        },
        "outputId": "c910c2d6-3b99-48b3-a9d6-a282b0b547ae"
      },
      "cell_type": "code",
      "source": [
        "csv_logger2 = CSVLogger('trail2_model_training.log')\n",
        "\n",
        "history = model.fit_generator(\n",
        "    train_generator,\n",
        "    steps_per_epoch=math.ceil(train_generator.n//train_generator.batch_size),\n",
        "    epochs=50,\n",
        "    validation_data=validation_generator,\n",
        "    validation_steps=math.ceil(validation_generator.samples //\n",
        "                      validation_generator.batch_size),\n",
        "    callbacks=[csv_logger2, es],\n",
        "    use_multiprocessing=True,\n",
        "    workers=0\n",
        ")"
      ],
      "execution_count": 21,
      "outputs": [
        {
          "output_type": "stream",
          "text": [
            "Epoch 1/50\n",
            "51/51 [==============================] - 53s 1s/step - loss: 15.0734 - acc: 0.0640 - val_loss: 14.3766 - val_acc: 0.1080\n",
            "Epoch 2/50\n",
            "51/51 [==============================] - 48s 945ms/step - loss: 14.4637 - acc: 0.1026 - val_loss: 14.3766 - val_acc: 0.1080\n",
            "Epoch 3/50\n",
            "51/51 [==============================] - 48s 937ms/step - loss: 14.4439 - acc: 0.1039 - val_loss: 14.3766 - val_acc: 0.1080\n",
            "Epoch 4/50\n",
            "51/51 [==============================] - 47s 929ms/step - loss: 14.4439 - acc: 0.1039 - val_loss: 14.3766 - val_acc: 0.1080\n",
            "Epoch 5/50\n",
            "51/51 [==============================] - 48s 944ms/step - loss: 14.4688 - acc: 0.1023 - val_loss: 14.3766 - val_acc: 0.1080\n",
            "Epoch 6/50\n",
            "51/51 [==============================] - 48s 935ms/step - loss: 14.4488 - acc: 0.1036 - val_loss: 14.3766 - val_acc: 0.1080\n",
            "Epoch 7/50\n",
            "51/51 [==============================] - 48s 934ms/step - loss: 14.4538 - acc: 0.1033 - val_loss: 15.0612 - val_acc: 0.0656\n",
            "Epoch 8/50\n",
            "51/51 [==============================] - 48s 938ms/step - loss: 14.4608 - acc: 0.1023 - val_loss: 15.1452 - val_acc: 0.0604\n",
            "Epoch 9/50\n",
            "51/51 [==============================] - 48s 947ms/step - loss: 14.7904 - acc: 0.0821 - val_loss: 14.6648 - val_acc: 0.0902\n",
            "Epoch 10/50\n",
            "51/51 [==============================] - 48s 943ms/step - loss: 14.4771 - acc: 0.1017 - val_loss: 14.3766 - val_acc: 0.1080\n",
            "Epoch 11/50\n",
            "51/51 [==============================] - 49s 952ms/step - loss: 14.4439 - acc: 0.1039 - val_loss: 14.3792 - val_acc: 0.1079\n",
            "Epoch 12/50\n",
            "51/51 [==============================] - 49s 966ms/step - loss: 14.4538 - acc: 0.1033 - val_loss: 14.3766 - val_acc: 0.1080\n",
            "Epoch 13/50\n",
            "51/51 [==============================] - 49s 960ms/step - loss: 14.4488 - acc: 0.1036 - val_loss: 14.3766 - val_acc: 0.1080\n",
            "Epoch 14/50\n",
            "51/51 [==============================] - 49s 960ms/step - loss: 14.4488 - acc: 0.1036 - val_loss: 14.3766 - val_acc: 0.1080\n",
            "Epoch 15/50\n",
            "51/51 [==============================] - 49s 961ms/step - loss: 14.4538 - acc: 0.1033 - val_loss: 14.3766 - val_acc: 0.1080\n",
            "Epoch 16/50\n",
            "51/51 [==============================] - 49s 959ms/step - loss: 14.4488 - acc: 0.1036 - val_loss: 14.3766 - val_acc: 0.1080\n",
            "Epoch 17/50\n",
            "51/51 [==============================] - 49s 960ms/step - loss: 14.4471 - acc: 0.1037 - val_loss: 14.3766 - val_acc: 0.1080\n",
            "Epoch 18/50\n",
            "51/51 [==============================] - 49s 963ms/step - loss: 14.4538 - acc: 0.1033 - val_loss: 14.3766 - val_acc: 0.1080\n",
            "Epoch 19/50\n",
            "51/51 [==============================] - 49s 962ms/step - loss: 14.4439 - acc: 0.1039 - val_loss: 14.3766 - val_acc: 0.1080\n",
            "Epoch 20/50\n",
            "51/51 [==============================] - 49s 960ms/step - loss: 14.4538 - acc: 0.1033 - val_loss: 14.3766 - val_acc: 0.1080\n",
            "Epoch 21/50\n",
            "51/51 [==============================] - 49s 964ms/step - loss: 14.4340 - acc: 0.1045 - val_loss: 14.3766 - val_acc: 0.1080\n",
            "Epoch 22/50\n",
            "51/51 [==============================] - 49s 965ms/step - loss: 14.4538 - acc: 0.1033 - val_loss: 14.3766 - val_acc: 0.1080\n",
            "Epoch 23/50\n",
            "51/51 [==============================] - 49s 963ms/step - loss: 14.4439 - acc: 0.1039 - val_loss: 14.3766 - val_acc: 0.1080\n",
            "Epoch 24/50\n",
            "51/51 [==============================] - 49s 965ms/step - loss: 14.4390 - acc: 0.1042 - val_loss: 14.3766 - val_acc: 0.1080\n",
            "Epoch 25/50\n",
            "51/51 [==============================] - 49s 962ms/step - loss: 14.4587 - acc: 0.1030 - val_loss: 14.3766 - val_acc: 0.1080\n",
            "Epoch 26/50\n",
            "51/51 [==============================] - 49s 960ms/step - loss: 14.4538 - acc: 0.1033 - val_loss: 14.3766 - val_acc: 0.1080\n",
            "Epoch 27/50\n",
            "51/51 [==============================] - 49s 970ms/step - loss: 14.4439 - acc: 0.1039 - val_loss: 14.3766 - val_acc: 0.1080\n",
            "Epoch 28/50\n",
            "51/51 [==============================] - 49s 964ms/step - loss: 14.4560 - acc: 0.1030 - val_loss: 14.3766 - val_acc: 0.1080\n",
            "Epoch 29/50\n",
            "51/51 [==============================] - 49s 965ms/step - loss: 14.4538 - acc: 0.1033 - val_loss: 15.0612 - val_acc: 0.0656\n",
            "Epoch 30/50\n",
            "51/51 [==============================] - 49s 968ms/step - loss: 14.4488 - acc: 0.1036 - val_loss: 15.1452 - val_acc: 0.0604\n",
            "Epoch 31/50\n",
            "51/51 [==============================] - 49s 965ms/step - loss: 14.4488 - acc: 0.1036 - val_loss: 14.6648 - val_acc: 0.0902\n",
            "Epoch 32/50\n",
            "51/51 [==============================] - 49s 968ms/step - loss: 14.4488 - acc: 0.1036 - val_loss: 14.3766 - val_acc: 0.1080\n",
            "Epoch 33/50\n",
            "51/51 [==============================] - 50s 972ms/step - loss: 14.4637 - acc: 0.1026 - val_loss: 14.3792 - val_acc: 0.1079\n",
            "Epoch 34/50\n",
            "51/51 [==============================] - 49s 968ms/step - loss: 14.4340 - acc: 0.1045 - val_loss: 14.3766 - val_acc: 0.1080\n",
            "Epoch 35/50\n",
            "51/51 [==============================] - 49s 967ms/step - loss: 14.4471 - acc: 0.1037 - val_loss: 14.3766 - val_acc: 0.1080\n",
            "Epoch 36/50\n",
            "51/51 [==============================] - 49s 969ms/step - loss: 14.4686 - acc: 0.1023 - val_loss: 14.3766 - val_acc: 0.1080\n",
            "Epoch 37/50\n",
            "51/51 [==============================] - 49s 966ms/step - loss: 14.4587 - acc: 0.1030 - val_loss: 14.3766 - val_acc: 0.1080\n",
            "Epoch 38/50\n",
            "51/51 [==============================] - 49s 963ms/step - loss: 14.4538 - acc: 0.1033 - val_loss: 14.3766 - val_acc: 0.1080\n",
            "Epoch 39/50\n",
            "51/51 [==============================] - 49s 965ms/step - loss: 14.4488 - acc: 0.1036 - val_loss: 14.3766 - val_acc: 0.1080\n",
            "Epoch 40/50\n",
            "51/51 [==============================] - 49s 964ms/step - loss: 14.4448 - acc: 0.1036 - val_loss: 14.3766 - val_acc: 0.1080\n",
            "Epoch 41/50\n",
            "51/51 [==============================] - 49s 964ms/step - loss: 14.4538 - acc: 0.1033 - val_loss: 14.3766 - val_acc: 0.1080\n",
            "Epoch 42/50\n",
            "51/51 [==============================] - 49s 964ms/step - loss: 14.4538 - acc: 0.1033 - val_loss: 14.3766 - val_acc: 0.1080\n",
            "Epoch 43/50\n",
            "51/51 [==============================] - 49s 968ms/step - loss: 14.4758 - acc: 0.1017 - val_loss: 14.3766 - val_acc: 0.1080\n",
            "Epoch 44/50\n",
            "51/51 [==============================] - 49s 967ms/step - loss: 14.4834 - acc: 0.1014 - val_loss: 14.3766 - val_acc: 0.1080\n",
            "Epoch 45/50\n",
            "51/51 [==============================] - 49s 966ms/step - loss: 14.4933 - acc: 0.1008 - val_loss: 14.3766 - val_acc: 0.1080\n",
            "Epoch 46/50\n",
            "51/51 [==============================] - 49s 967ms/step - loss: 14.4637 - acc: 0.1026 - val_loss: 14.3766 - val_acc: 0.1080\n",
            "Epoch 47/50\n",
            "51/51 [==============================] - 49s 966ms/step - loss: 14.5279 - acc: 0.0987 - val_loss: 14.3766 - val_acc: 0.1080\n",
            "Epoch 48/50\n",
            "51/51 [==============================] - 49s 964ms/step - loss: 14.7649 - acc: 0.0840 - val_loss: 14.3766 - val_acc: 0.1080\n",
            "Epoch 49/50\n",
            "51/51 [==============================] - 49s 966ms/step - loss: 14.7658 - acc: 0.0836 - val_loss: 14.3766 - val_acc: 0.1080\n",
            "Epoch 50/50\n",
            "51/51 [==============================] - 49s 964ms/step - loss: 14.7748 - acc: 0.0833 - val_loss: 14.3766 - val_acc: 0.1080\n"
          ],
          "name": "stdout"
        }
      ]
    },
    {
      "metadata": {
        "id": "g82gT1yqNp3-",
        "colab_type": "code",
        "colab": {
          "base_uri": "https://localhost:8080/",
          "height": 294
        },
        "outputId": "6932ffd3-0990-4396-db7b-7d7e503980c0"
      },
      "cell_type": "code",
      "source": [
        "# summarize history for accuracy\n",
        "plt.plot(history.history['acc'])\n",
        "plt.plot(history.history['val_acc'])\n",
        "plt.title('model accuracy')\n",
        "plt.ylabel('accuracy')\n",
        "plt.xlabel('epoch')\n",
        "plt.legend(['train', 'test'], loc='upper left')\n",
        "plt.show()"
      ],
      "execution_count": 22,
      "outputs": [
        {
          "output_type": "display_data",
          "data": {
            "image/png": "[encoded data removed]",
            "text/plain": [
              "<matplotlib.figure.Figure at 0x7f9c07ac0630>"
            ]
          },
          "metadata": {
            "tags": []
          }
        }
      ]
    },
    {
      "metadata": {
        "id": "7q5l80NiNsbV",
        "colab_type": "code",
        "colab": {
          "base_uri": "https://localhost:8080/",
          "height": 294
        },
        "outputId": "c6fcad2c-25fe-4219-95d8-ae8e86826dfb"
      },
      "cell_type": "code",
      "source": [
        "# summarize history for loss\n",
        "plt.plot(history.history['loss'])\n",
        "plt.plot(history.history['val_loss'])\n",
        "plt.title('model loss')\n",
        "plt.ylabel('loss')\n",
        "plt.xlabel('epoch')\n",
        "plt.legend(['train', 'test'], loc='best')\n",
        "plt.show()"
      ],
      "execution_count": 23,
      "outputs": [
        {
          "output_type": "display_data",
          "data": {
            "image/png": "[encoded data removed]",
            "text/plain": [
              "<matplotlib.figure.Figure at 0x7f9c07ac8390>"
            ]
          },
          "metadata": {
            "tags": []
          }
        }
      ]
    },
    {
      "metadata": {
        "id": "F4o4C9JdNvR1",
        "colab_type": "code",
        "colab": {
          "base_uri": "https://localhost:8080/",
          "height": 600
        },
        "outputId": "ebcaaa50-3a15-4970-f501-f9f8992cc5aa"
      },
      "cell_type": "code",
      "source": [
        "predictions = model.predict_generator(\n",
        "    test_generator, test_generator.n // test_generator.batch_size, verbose=1\n",
        ")\n",
        "\n",
        "y_pred = np.argmax(predictions, axis=1)\n",
        "y_true = integer_encoding(new_df['class'])\n",
        "\n",
        "print(accuracy_score(y_true, y_pred))\n",
        "print(classification_report(y_true, y_pred))\n",
        "\n",
        "scores = model.evaluate_generator(\n",
        "    test_generator, test_generator.n // test_generator.batch_size, verbose=1\n",
        ")\n",
        "\n",
        "print('The accuracy is: {}'.format(str(scores[1]*100.0)))"
      ],
      "execution_count": 24,
      "outputs": [
        {
          "output_type": "stream",
          "text": [
            "1671/1671 [==============================] - 27s 16ms/step\n",
            "0.1298623578695392\n",
            "              precision    recall  f1-score   support\n",
            "\n",
            "           0       0.00      0.00      0.00        19\n",
            "           1       0.00      0.00      0.00        22\n",
            "           2       0.00      0.00      0.00        51\n",
            "           3       0.00      0.00      0.00         3\n",
            "           4       0.00      0.00      0.00         7\n",
            "           5       0.13      1.00      0.23       217\n",
            "           6       0.00      0.00      0.00       125\n",
            "           7       0.00      0.00      0.00         6\n",
            "           8       0.00      0.00      0.00        59\n",
            "           9       0.00      0.00      0.00         3\n",
            "          10       0.00      0.00      0.00         1\n",
            "          11       0.00      0.00      0.00       274\n",
            "          12       0.00      0.00      0.00        74\n",
            "          13       0.00      0.00      0.00        15\n",
            "          14       0.00      0.00      0.00        19\n",
            "          15       0.00      0.00      0.00         3\n",
            "          16       0.00      0.00      0.00        29\n",
            "          17       0.00      0.00      0.00       325\n",
            "          18       0.00      0.00      0.00       419\n",
            "\n",
            "   micro avg       0.13      0.13      0.13      1671\n",
            "   macro avg       0.01      0.05      0.01      1671\n",
            "weighted avg       0.02      0.13      0.03      1671\n",
            "\n",
            "  10/1671 [..............................] - ETA: 31s"
          ],
          "name": "stdout"
        },
        {
          "output_type": "stream",
          "text": [
            "/usr/local/lib/python3.6/dist-packages/sklearn/metrics/classification.py:1143: UndefinedMetricWarning: Precision and F-score are ill-defined and being set to 0.0 in labels with no predicted samples.\n",
            "  'precision', 'predicted', average, warn_for)\n"
          ],
          "name": "stderr"
        },
        {
          "output_type": "stream",
          "text": [
            "1671/1671 [==============================] - 28s 17ms/step\n",
            "The accuracy is: 0.059844404548174746\n"
          ],
          "name": "stdout"
        }
      ]
    },
    {
      "metadata": {
        "id": "akM-TN36stlN",
        "colab_type": "code",
        "colab": {
          "base_uri": "https://localhost:8080/",
          "height": 527
        },
        "outputId": "53845f50-3611-4d24-b806-8ebc3d5f8203"
      },
      "cell_type": "code",
      "source": [
        "# model 4\n",
        "model = Sequential()\n",
        "model.add(Conv2D(input_shape=(image_size, image_size, 3), filters=32, \n",
        "                 use_bias=True, kernel_size=(3,3)))\n",
        "model.add(Activation('relu'))\n",
        "model.add(Dropout(0.1))\n",
        "model.add(Conv2D(filters=64, use_bias=False, kernel_size=(5,5), strides=2))\n",
        "model.add(Activation('relu'))\n",
        "model.add(Dropout(0.2))\n",
        "model.add(Flatten())\n",
        "model.add(Dense(128))\n",
        "model.add(Activation('relu'))\n",
        "model.add(Dropout(0.3))\n",
        "model.add(Dense(num_classes, activation=\"softmax\"))\n",
        "opt = adam(lr=0.00001)\n",
        "model.compile(loss='categorical_crossentropy',\n",
        "             optimizer=opt, metrics=['accuracy'])\n",
        "model.summary()"
      ],
      "execution_count": 7,
      "outputs": [
        {
          "output_type": "stream",
          "text": [
            "_________________________________________________________________\n",
            "Layer (type)                 Output Shape              Param #   \n",
            "=================================================================\n",
            "conv2d (Conv2D)              (None, 254, 254, 32)      896       \n",
            "_________________________________________________________________\n",
            "activation (Activation)      (None, 254, 254, 32)      0         \n",
            "_________________________________________________________________\n",
            "dropout (Dropout)            (None, 254, 254, 32)      0         \n",
            "_________________________________________________________________\n",
            "conv2d_1 (Conv2D)            (None, 125, 125, 64)      51200     \n",
            "_________________________________________________________________\n",
            "activation_1 (Activation)    (None, 125, 125, 64)      0         \n",
            "_________________________________________________________________\n",
            "dropout_1 (Dropout)          (None, 125, 125, 64)      0         \n",
            "_________________________________________________________________\n",
            "flatten (Flatten)            (None, 1000000)           0         \n",
            "_________________________________________________________________\n",
            "dense (Dense)                (None, 128)               128000128 \n",
            "_________________________________________________________________\n",
            "activation_2 (Activation)    (None, 128)               0         \n",
            "_________________________________________________________________\n",
            "dropout_2 (Dropout)          (None, 128)               0         \n",
            "_________________________________________________________________\n",
            "dense_1 (Dense)              (None, 19)                2451      \n",
            "=================================================================\n",
            "Total params: 128,054,675\n",
            "Trainable params: 128,054,675\n",
            "Non-trainable params: 0\n",
            "_________________________________________________________________\n"
          ],
          "name": "stdout"
        }
      ]
    },
    {
      "metadata": {
        "id": "j2HsJm-Lsyh6",
        "colab_type": "code",
        "colab": {
          "base_uri": "https://localhost:8080/",
          "height": 246
        },
        "outputId": "fa7f2a03-b4b8-4873-8d4f-c600ebce78ac"
      },
      "cell_type": "code",
      "source": [
        "csv_logger3 = CSVLogger('trail3_model_training.log')\n",
        "\n",
        "history = model.fit_generator(\n",
        "    train_generator,\n",
        "    steps_per_epoch=math.ceil(train_generator.n//train_generator.batch_size),\n",
        "    epochs=50,\n",
        "    validation_data=validation_generator,\n",
        "    validation_steps=math.ceil(validation_generator.samples //\n",
        "                      validation_generator.batch_size),\n",
        "    callbacks=[csv_logger3, es],\n",
        "    use_multiprocessing=True,\n",
        "    workers=0\n",
        ")"
      ],
      "execution_count": 9,
      "outputs": [
        {
          "output_type": "stream",
          "text": [
            "Epoch 1/50\n",
            "51/51 [==============================] - 56s 1s/step - loss: 15.8218 - acc: 0.0184 - val_loss: 15.8178 - val_acc: 0.0186\n",
            "Epoch 2/50\n",
            "51/51 [==============================] - 56s 1s/step - loss: 15.8218 - acc: 0.0184 - val_loss: 15.8178 - val_acc: 0.0186\n",
            "Epoch 3/50\n",
            "51/51 [==============================] - 56s 1s/step - loss: 15.8218 - acc: 0.0184 - val_loss: 15.8178 - val_acc: 0.0186\n",
            "Epoch 4/50\n",
            "51/51 [==============================] - 56s 1s/step - loss: 15.8218 - acc: 0.0184 - val_loss: 15.8178 - val_acc: 0.0186\n",
            "Epoch 5/50\n",
            "51/51 [==============================] - 56s 1s/step - loss: 15.8218 - acc: 0.0184 - val_loss: 15.8178 - val_acc: 0.0186\n",
            "Epoch 6/50\n",
            "51/51 [==============================] - 56s 1s/step - loss: 15.8218 - acc: 0.0184 - val_loss: 15.8178 - val_acc: 0.0186\n",
            "Epoch 00006: early stopping\n"
          ],
          "name": "stdout"
        }
      ]
    },
    {
      "metadata": {
        "id": "4RhC0P1xs1td",
        "colab_type": "code",
        "colab": {
          "base_uri": "https://localhost:8080/",
          "height": 294
        },
        "outputId": "d925c671-1335-4826-c653-655a1039b797"
      },
      "cell_type": "code",
      "source": [
        "# summarize history for accuracy\n",
        "plt.plot(history.history['acc'])\n",
        "plt.plot(history.history['val_acc'])\n",
        "plt.title('model accuracy')\n",
        "plt.ylabel('accuracy')\n",
        "plt.xlabel('epoch')\n",
        "plt.legend(['train', 'test'], loc='best')\n",
        "plt.show()"
      ],
      "execution_count": 10,
      "outputs": [
        {
          "output_type": "display_data",
          "data": {
            "image/png": "[encoded data removed]",
            "text/plain": [
              "<matplotlib.figure.Figure at 0x7f8f09f1e208>"
            ]
          },
          "metadata": {
            "tags": []
          }
        }
      ]
    },
    {
      "metadata": {
        "id": "Er2ven4Vs4E7",
        "colab_type": "code",
        "colab": {
          "base_uri": "https://localhost:8080/",
          "height": 294
        },
        "outputId": "625289a7-b7cc-4d01-e896-2d9ff6e4d49c"
      },
      "cell_type": "code",
      "source": [
        "# summarize history for loss\n",
        "plt.plot(history.history['loss'])\n",
        "plt.plot(history.history['val_loss'])\n",
        "plt.title('model loss')\n",
        "plt.ylabel('loss')\n",
        "plt.xlabel('epoch')\n",
        "plt.legend(['train', 'test'], loc='best')\n",
        "plt.show()"
      ],
      "execution_count": 11,
      "outputs": [
        {
          "output_type": "display_data",
          "data": {
            "image/png": "[encoded data removed]",
            "text/plain": [
              "<matplotlib.figure.Figure at 0x7f8f09e34780>"
            ]
          },
          "metadata": {
            "tags": []
          }
        }
      ]
    },
    {
      "metadata": {
        "id": "70XEB52Ws5Yu",
        "colab_type": "code",
        "colab": {
          "base_uri": "https://localhost:8080/",
          "height": 600
        },
        "outputId": "dd4fed71-68c4-4143-a18d-88d049ace0aa"
      },
      "cell_type": "code",
      "source": [
        "predictions = model.predict_generator(\n",
        "    test_generator, test_generator.n // test_generator.batch_size, verbose=1\n",
        ")\n",
        "\n",
        "y_pred = np.argmax(predictions, axis=1)\n",
        "y_true = integer_encoding(new_df['class'])\n",
        "\n",
        "print(accuracy_score(y_true, y_pred))\n",
        "print(classification_report(y_true, y_pred))\n",
        "\n",
        "scores = model.evaluate_generator(\n",
        "    test_generator, test_generator.n // test_generator.batch_size, verbose=1\n",
        ")\n",
        "\n",
        "print('The accuracy is: {}'.format(str(scores[1]*100.0)))"
      ],
      "execution_count": 12,
      "outputs": [
        {
          "output_type": "stream",
          "text": [
            "1671/1671 [==============================] - 25s 15ms/step\n",
            "0.013165769000598444\n",
            "              precision    recall  f1-score   support\n",
            "\n",
            "           0       0.00      0.00      0.00        19\n",
            "           1       0.01      1.00      0.03        22\n",
            "           2       0.00      0.00      0.00        51\n",
            "           3       0.00      0.00      0.00         3\n",
            "           4       0.00      0.00      0.00         7\n",
            "           5       0.00      0.00      0.00       217\n",
            "           6       0.00      0.00      0.00       125\n",
            "           7       0.00      0.00      0.00         6\n",
            "           8       0.00      0.00      0.00        59\n",
            "           9       0.00      0.00      0.00         3\n",
            "          10       0.00      0.00      0.00         1\n",
            "          11       0.00      0.00      0.00       274\n",
            "          12       0.00      0.00      0.00        74\n",
            "          13       0.00      0.00      0.00        15\n",
            "          14       0.00      0.00      0.00        19\n",
            "          15       0.00      0.00      0.00         3\n",
            "          16       0.00      0.00      0.00        29\n",
            "          17       0.00      0.00      0.00       325\n",
            "          18       0.00      0.00      0.00       419\n",
            "\n",
            "   micro avg       0.01      0.01      0.01      1671\n",
            "   macro avg       0.00      0.05      0.00      1671\n",
            "weighted avg       0.00      0.01      0.00      1671\n",
            "\n",
            "   8/1671 [..............................] - ETA: 28s"
          ],
          "name": "stdout"
        },
        {
          "output_type": "stream",
          "text": [
            "/usr/local/lib/python3.6/dist-packages/sklearn/metrics/classification.py:1143: UndefinedMetricWarning: Precision and F-score are ill-defined and being set to 0.0 in labels with no predicted samples.\n",
            "  'precision', 'predicted', average, warn_for)\n"
          ],
          "name": "stderr"
        },
        {
          "output_type": "stream",
          "text": [
            "1671/1671 [==============================] - 26s 16ms/step\n",
            "The accuracy is: 19.449431478156793\n"
          ],
          "name": "stdout"
        }
      ]
    },
    {
      "metadata": {
        "id": "1oMFAHAZs-b3",
        "colab_type": "code",
        "colab": {
          "base_uri": "https://localhost:8080/",
          "height": 668
        },
        "outputId": "62d8bfd9-26c9-4013-b850-1ee1791407d3"
      },
      "cell_type": "code",
      "source": [
        "# model 5\n",
        "model = Sequential()\n",
        "model.add(Conv2D(input_shape=(image_size, image_size,3), filters=96, kernel_size=(3,3)))\n",
        "model.add(Activation('relu'))\n",
        "model.add(Conv2D(filters=96, kernel_size=(3,3), strides=2))\n",
        "model.add(Activation('relu'))\n",
        "model.add(Dropout(0.2))\n",
        "model.add(Conv2D(filters=192, kernel_size=(3,3)))\n",
        "model.add(Activation('relu'))\n",
        "model.add(Conv2D(filters=192, kernel_size=(3,3), strides=2))\n",
        "model.add(Activation('relu'))\n",
        "model.add(Dropout(0.5))\n",
        "model.add(Flatten())\n",
        "model.add(BatchNormalization())\n",
        "model.add(Dense(256))\n",
        "model.add(Activation('relu'))\n",
        "model.add(Dense(num_classes, activation=\"softmax\"))\n",
        "opt = adam(lr=0.00001)\n",
        "model.compile(loss='categorical_crossentropy',\n",
        "             optimizer=opt, metrics=['accuracy'])\n",
        "model.summary()"
      ],
      "execution_count": 9,
      "outputs": [
        {
          "output_type": "stream",
          "text": [
            "_________________________________________________________________\n",
            "Layer (type)                 Output Shape              Param #   \n",
            "=================================================================\n",
            "conv2d (Conv2D)              (None, 254, 254, 96)      2688      \n",
            "_________________________________________________________________\n",
            "activation (Activation)      (None, 254, 254, 96)      0         \n",
            "_________________________________________________________________\n",
            "conv2d_1 (Conv2D)            (None, 126, 126, 96)      83040     \n",
            "_________________________________________________________________\n",
            "activation_1 (Activation)    (None, 126, 126, 96)      0         \n",
            "_________________________________________________________________\n",
            "dropout (Dropout)            (None, 126, 126, 96)      0         \n",
            "_________________________________________________________________\n",
            "conv2d_2 (Conv2D)            (None, 124, 124, 192)     166080    \n",
            "_________________________________________________________________\n",
            "activation_2 (Activation)    (None, 124, 124, 192)     0         \n",
            "_________________________________________________________________\n",
            "conv2d_3 (Conv2D)            (None, 61, 61, 192)       331968    \n",
            "_________________________________________________________________\n",
            "activation_3 (Activation)    (None, 61, 61, 192)       0         \n",
            "_________________________________________________________________\n",
            "dropout_1 (Dropout)          (None, 61, 61, 192)       0         \n",
            "_________________________________________________________________\n",
            "flatten (Flatten)            (None, 714432)            0         \n",
            "_________________________________________________________________\n",
            "batch_normalization (BatchNo (None, 714432)            2857728   \n",
            "_________________________________________________________________\n",
            "dense (Dense)                (None, 256)               182894848 \n",
            "_________________________________________________________________\n",
            "activation_4 (Activation)    (None, 256)               0         \n",
            "_________________________________________________________________\n",
            "dense_1 (Dense)              (None, 19)                4883      \n",
            "=================================================================\n",
            "Total params: 186,341,235\n",
            "Trainable params: 184,912,371\n",
            "Non-trainable params: 1,428,864\n",
            "_________________________________________________________________\n"
          ],
          "name": "stdout"
        }
      ]
    },
    {
      "metadata": {
        "id": "HVYbL8bCtOdV",
        "colab_type": "code",
        "colab": {
          "base_uri": "https://localhost:8080/",
          "height": 1034
        },
        "outputId": "f16fdd55-1989-4900-f2ca-729a3b178ccd"
      },
      "cell_type": "code",
      "source": [
        "csv_logger4 = CSVLogger('trail4_model_training.log')\n",
        "\n",
        "history = model.fit_generator(\n",
        "    train_generator,\n",
        "    steps_per_epoch=math.ceil(train_generator.n//train_generator.batch_size),\n",
        "    epochs=50,\n",
        "    validation_data=validation_generator,\n",
        "    validation_steps=math.ceil(validation_generator.samples //\n",
        "                      validation_generator.batch_size),\n",
        "    callbacks=[csv_logger4, es],\n",
        "    use_multiprocessing=True,\n",
        "    workers=0\n",
        ")"
      ],
      "execution_count": 10,
      "outputs": [
        {
          "output_type": "stream",
          "text": [
            "Epoch 1/50\n"
          ],
          "name": "stdout"
        },
        {
          "output_type": "error",
          "ename": "ResourceExhaustedError",
          "evalue": "ignored",
          "traceback": [
            "\u001b[0;31m---------------------------------------------------------------------------\u001b[0m",
            "\u001b[0;31mResourceExhaustedError\u001b[0m                    Traceback (most recent call last)",
            "\u001b[0;32m<ipython-input-10-259069b8af90>\u001b[0m in \u001b[0;36m<module>\u001b[0;34m()\u001b[0m\n\u001b[1;32m     10\u001b[0m     \u001b[0mcallbacks\u001b[0m\u001b[0;34m=\u001b[0m\u001b[0;34m[\u001b[0m\u001b[0mcsv_logger4\u001b[0m\u001b[0;34m,\u001b[0m \u001b[0mes\u001b[0m\u001b[0;34m]\u001b[0m\u001b[0;34m,\u001b[0m\u001b[0;34m\u001b[0m\u001b[0;34m\u001b[0m\u001b[0m\n\u001b[1;32m     11\u001b[0m     \u001b[0muse_multiprocessing\u001b[0m\u001b[0;34m=\u001b[0m\u001b[0;32mTrue\u001b[0m\u001b[0;34m,\u001b[0m\u001b[0;34m\u001b[0m\u001b[0;34m\u001b[0m\u001b[0m\n\u001b[0;32m---> 12\u001b[0;31m     \u001b[0mworkers\u001b[0m\u001b[0;34m=\u001b[0m\u001b[0;36m0\u001b[0m\u001b[0;34m\u001b[0m\u001b[0;34m\u001b[0m\u001b[0m\n\u001b[0m\u001b[1;32m     13\u001b[0m )\n",
            "\u001b[0;32m/usr/local/lib/python3.6/dist-packages/tensorflow/python/keras/engine/training.py\u001b[0m in \u001b[0;36mfit_generator\u001b[0;34m(self, generator, steps_per_epoch, epochs, verbose, callbacks, validation_data, validation_steps, class_weight, max_queue_size, workers, use_multiprocessing, shuffle, initial_epoch)\u001b[0m\n\u001b[1;32m   2175\u001b[0m         \u001b[0muse_multiprocessing\u001b[0m\u001b[0;34m=\u001b[0m\u001b[0muse_multiprocessing\u001b[0m\u001b[0;34m,\u001b[0m\u001b[0;34m\u001b[0m\u001b[0;34m\u001b[0m\u001b[0m\n\u001b[1;32m   2176\u001b[0m         \u001b[0mshuffle\u001b[0m\u001b[0;34m=\u001b[0m\u001b[0mshuffle\u001b[0m\u001b[0;34m,\u001b[0m\u001b[0;34m\u001b[0m\u001b[0;34m\u001b[0m\u001b[0m\n\u001b[0;32m-> 2177\u001b[0;31m         initial_epoch=initial_epoch)\n\u001b[0m\u001b[1;32m   2178\u001b[0m \u001b[0;34m\u001b[0m\u001b[0m\n\u001b[1;32m   2179\u001b[0m   def evaluate_generator(self,\n",
            "\u001b[0;32m/usr/local/lib/python3.6/dist-packages/tensorflow/python/keras/engine/training_generator.py\u001b[0m in \u001b[0;36mfit_generator\u001b[0;34m(model, generator, steps_per_epoch, epochs, verbose, callbacks, validation_data, validation_steps, class_weight, max_queue_size, workers, use_multiprocessing, shuffle, initial_epoch)\u001b[0m\n\u001b[1;32m    174\u001b[0m \u001b[0;34m\u001b[0m\u001b[0m\n\u001b[1;32m    175\u001b[0m         outs = model.train_on_batch(\n\u001b[0;32m--> 176\u001b[0;31m             x, y, sample_weight=sample_weight, class_weight=class_weight)\n\u001b[0m\u001b[1;32m    177\u001b[0m \u001b[0;34m\u001b[0m\u001b[0m\n\u001b[1;32m    178\u001b[0m         \u001b[0;32mif\u001b[0m \u001b[0;32mnot\u001b[0m \u001b[0misinstance\u001b[0m\u001b[0;34m(\u001b[0m\u001b[0mouts\u001b[0m\u001b[0;34m,\u001b[0m \u001b[0mlist\u001b[0m\u001b[0;34m)\u001b[0m\u001b[0;34m:\u001b[0m\u001b[0;34m\u001b[0m\u001b[0;34m\u001b[0m\u001b[0m\n",
            "\u001b[0;32m/usr/local/lib/python3.6/dist-packages/tensorflow/python/keras/engine/training.py\u001b[0m in \u001b[0;36mtrain_on_batch\u001b[0;34m(self, x, y, sample_weight, class_weight)\u001b[0m\n\u001b[1;32m   1938\u001b[0m \u001b[0;34m\u001b[0m\u001b[0m\n\u001b[1;32m   1939\u001b[0m       \u001b[0mself\u001b[0m\u001b[0;34m.\u001b[0m\u001b[0m_make_train_function\u001b[0m\u001b[0;34m(\u001b[0m\u001b[0;34m)\u001b[0m\u001b[0;34m\u001b[0m\u001b[0;34m\u001b[0m\u001b[0m\n\u001b[0;32m-> 1940\u001b[0;31m       \u001b[0moutputs\u001b[0m \u001b[0;34m=\u001b[0m \u001b[0mself\u001b[0m\u001b[0;34m.\u001b[0m\u001b[0mtrain_function\u001b[0m\u001b[0;34m(\u001b[0m\u001b[0mins\u001b[0m\u001b[0;34m)\u001b[0m\u001b[0;34m\u001b[0m\u001b[0;34m\u001b[0m\u001b[0m\n\u001b[0m\u001b[1;32m   1941\u001b[0m \u001b[0;34m\u001b[0m\u001b[0m\n\u001b[1;32m   1942\u001b[0m     \u001b[0;32mif\u001b[0m \u001b[0mlen\u001b[0m\u001b[0;34m(\u001b[0m\u001b[0moutputs\u001b[0m\u001b[0;34m)\u001b[0m \u001b[0;34m==\u001b[0m \u001b[0;36m1\u001b[0m\u001b[0;34m:\u001b[0m\u001b[0;34m\u001b[0m\u001b[0;34m\u001b[0m\u001b[0m\n",
            "\u001b[0;32m/usr/local/lib/python3.6/dist-packages/tensorflow/python/keras/backend.py\u001b[0m in \u001b[0;36m__call__\u001b[0;34m(self, inputs)\u001b[0m\n\u001b[1;32m   2984\u001b[0m \u001b[0;34m\u001b[0m\u001b[0m\n\u001b[1;32m   2985\u001b[0m     fetched = self._callable_fn(*array_vals,\n\u001b[0;32m-> 2986\u001b[0;31m                                 run_metadata=self.run_metadata)\n\u001b[0m\u001b[1;32m   2987\u001b[0m     \u001b[0mself\u001b[0m\u001b[0;34m.\u001b[0m\u001b[0m_call_fetch_callbacks\u001b[0m\u001b[0;34m(\u001b[0m\u001b[0mfetched\u001b[0m\u001b[0;34m[\u001b[0m\u001b[0;34m-\u001b[0m\u001b[0mlen\u001b[0m\u001b[0;34m(\u001b[0m\u001b[0mself\u001b[0m\u001b[0;34m.\u001b[0m\u001b[0m_fetches\u001b[0m\u001b[0;34m)\u001b[0m\u001b[0;34m:\u001b[0m\u001b[0;34m]\u001b[0m\u001b[0;34m)\u001b[0m\u001b[0;34m\u001b[0m\u001b[0;34m\u001b[0m\u001b[0m\n\u001b[1;32m   2988\u001b[0m     \u001b[0;32mreturn\u001b[0m \u001b[0mfetched\u001b[0m\u001b[0;34m[\u001b[0m\u001b[0;34m:\u001b[0m\u001b[0mlen\u001b[0m\u001b[0;34m(\u001b[0m\u001b[0mself\u001b[0m\u001b[0;34m.\u001b[0m\u001b[0moutputs\u001b[0m\u001b[0;34m)\u001b[0m\u001b[0;34m]\u001b[0m\u001b[0;34m\u001b[0m\u001b[0;34m\u001b[0m\u001b[0m\n",
            "\u001b[0;32m/usr/local/lib/python3.6/dist-packages/tensorflow/python/client/session.py\u001b[0m in \u001b[0;36m__call__\u001b[0;34m(self, *args, **kwargs)\u001b[0m\n\u001b[1;32m   1437\u001b[0m           ret = tf_session.TF_SessionRunCallable(\n\u001b[1;32m   1438\u001b[0m               \u001b[0mself\u001b[0m\u001b[0;34m.\u001b[0m\u001b[0m_session\u001b[0m\u001b[0;34m.\u001b[0m\u001b[0m_session\u001b[0m\u001b[0;34m,\u001b[0m \u001b[0mself\u001b[0m\u001b[0;34m.\u001b[0m\u001b[0m_handle\u001b[0m\u001b[0;34m,\u001b[0m \u001b[0margs\u001b[0m\u001b[0;34m,\u001b[0m \u001b[0mstatus\u001b[0m\u001b[0;34m,\u001b[0m\u001b[0;34m\u001b[0m\u001b[0;34m\u001b[0m\u001b[0m\n\u001b[0;32m-> 1439\u001b[0;31m               run_metadata_ptr)\n\u001b[0m\u001b[1;32m   1440\u001b[0m         \u001b[0;32mif\u001b[0m \u001b[0mrun_metadata\u001b[0m\u001b[0;34m:\u001b[0m\u001b[0;34m\u001b[0m\u001b[0;34m\u001b[0m\u001b[0m\n\u001b[1;32m   1441\u001b[0m           \u001b[0mproto_data\u001b[0m \u001b[0;34m=\u001b[0m \u001b[0mtf_session\u001b[0m\u001b[0;34m.\u001b[0m\u001b[0mTF_GetBuffer\u001b[0m\u001b[0;34m(\u001b[0m\u001b[0mrun_metadata_ptr\u001b[0m\u001b[0;34m)\u001b[0m\u001b[0;34m\u001b[0m\u001b[0;34m\u001b[0m\u001b[0m\n",
            "\u001b[0;32m/usr/local/lib/python3.6/dist-packages/tensorflow/python/framework/errors_impl.py\u001b[0m in \u001b[0;36m__exit__\u001b[0;34m(self, type_arg, value_arg, traceback_arg)\u001b[0m\n\u001b[1;32m    526\u001b[0m             \u001b[0;32mNone\u001b[0m\u001b[0;34m,\u001b[0m \u001b[0;32mNone\u001b[0m\u001b[0;34m,\u001b[0m\u001b[0;34m\u001b[0m\u001b[0;34m\u001b[0m\u001b[0m\n\u001b[1;32m    527\u001b[0m             \u001b[0mcompat\u001b[0m\u001b[0;34m.\u001b[0m\u001b[0mas_text\u001b[0m\u001b[0;34m(\u001b[0m\u001b[0mc_api\u001b[0m\u001b[0;34m.\u001b[0m\u001b[0mTF_Message\u001b[0m\u001b[0;34m(\u001b[0m\u001b[0mself\u001b[0m\u001b[0;34m.\u001b[0m\u001b[0mstatus\u001b[0m\u001b[0;34m.\u001b[0m\u001b[0mstatus\u001b[0m\u001b[0;34m)\u001b[0m\u001b[0;34m)\u001b[0m\u001b[0;34m,\u001b[0m\u001b[0;34m\u001b[0m\u001b[0;34m\u001b[0m\u001b[0m\n\u001b[0;32m--> 528\u001b[0;31m             c_api.TF_GetCode(self.status.status))\n\u001b[0m\u001b[1;32m    529\u001b[0m     \u001b[0;31m# Delete the underlying status object from memory otherwise it stays alive\u001b[0m\u001b[0;34m\u001b[0m\u001b[0;34m\u001b[0m\u001b[0;34m\u001b[0m\u001b[0m\n\u001b[1;32m    530\u001b[0m     \u001b[0;31m# as there is a reference to status from this from the traceback due to\u001b[0m\u001b[0;34m\u001b[0m\u001b[0;34m\u001b[0m\u001b[0;34m\u001b[0m\u001b[0m\n",
            "\u001b[0;31mResourceExhaustedError\u001b[0m: OOM when allocating tensor with shape[64,96,254,254] and type float on /job:localhost/replica:0/task:0/device:GPU:0 by allocator GPU_0_bfc\n\t [[{{node training/Adam/gradients/conv2d_1/Conv2D_grad/Conv2DBackpropInput}} = Conv2DBackpropInput[T=DT_FLOAT, data_format=\"NCHW\", dilations=[1, 1, 1, 1], padding=\"VALID\", strides=[1, 1, 2, 2], use_cudnn_on_gpu=true, _device=\"/job:localhost/replica:0/task:0/device:GPU:0\"](training/Adam/gradients/conv2d_1/Conv2D_grad/ShapeN, conv2d_1/Conv2D/ReadVariableOp, training/Adam/gradients/activation_1/Relu_grad/ReluGrad)]]\nHint: If you want to see a list of allocated tensors when OOM happens, add report_tensor_allocations_upon_oom to RunOptions for current allocation info.\n"
          ]
        }
      ]
    },
    {
      "metadata": {
        "id": "pSwywWPktQcJ",
        "colab_type": "code",
        "colab": {}
      },
      "cell_type": "code",
      "source": [
        "# summarize history for accuracy\n",
        "plt.plot(history.history['acc'])\n",
        "plt.plot(history.history['val_acc'])\n",
        "plt.title('model accuracy')\n",
        "plt.ylabel('accuracy')\n",
        "plt.xlabel('epoch')\n",
        "plt.legend(['train', 'test'], loc='best')\n",
        "plt.show()"
      ],
      "execution_count": 0,
      "outputs": []
    },
    {
      "metadata": {
        "id": "LXcEM03atRfy",
        "colab_type": "code",
        "colab": {}
      },
      "cell_type": "code",
      "source": [
        "# summarize history for loss\n",
        "plt.plot(history.history['loss'])\n",
        "plt.plot(history.history['val_loss'])\n",
        "plt.title('model loss')\n",
        "plt.ylabel('loss')\n",
        "plt.xlabel('epoch')\n",
        "plt.legend(['train', 'test'], loc='best')\n",
        "plt.show()"
      ],
      "execution_count": 0,
      "outputs": []
    },
    {
      "metadata": {
        "id": "OKKIiLCrtSso",
        "colab_type": "code",
        "colab": {}
      },
      "cell_type": "code",
      "source": [
        "predictions = model.predict_generator(\n",
        "    test_generator, test_generator.n // test_generator.batch_size, verbose=1\n",
        ")\n",
        "\n",
        "y_pred = np.argmax(predictions, axis=1)\n",
        "y_true = integer_encoding(new_df['class'])\n",
        "\n",
        "print('precision: {}'.format(str(accuracy_score(y_true, y_pred) * 100.0)))\n",
        "print(classification_report(y_true, y_pred))\n",
        "\n",
        "precision, recall, fscore, support = score(y_true, y_pred)\n",
        "\n",
        "print('precision: {}'.format(precision))\n",
        "print('recall: {}'.format(recall))\n",
        "print('fscore: {}'.format(fscore))\n",
        "print('support: {}'.format(support))\n",
        "\n",
        "scores = model.evaluate_generator(\n",
        "    test_generator, test_generator.n // test_generator.batch_size, verbose=1\n",
        ")\n",
        "\n",
        "print('The accuracy is: {}'.format(str(scores[1]*100.0)))"
      ],
      "execution_count": 0,
      "outputs": []
    },
    {
      "metadata": {
        "id": "ByFa7_LGPQYg",
        "colab_type": "code",
        "colab": {
          "base_uri": "https://localhost:8080/",
          "height": 239
        },
        "outputId": "505c05e9-48f1-47bb-a5f8-475ed12367ea"
      },
      "cell_type": "code",
      "source": [
        "# Model 6\n",
        "model.add(Conv2D(32, (3, 3), input_shape=(256, 256, 3)))\n",
        "model.add(Activation('relu'))\n",
        "model.add(MaxPooling2D(pool_size=(2, 2)))\n",
        "\n",
        "model.add(Conv2D(32, (3, 3)))\n",
        "model.add(Activation('relu'))\n",
        "model.add(MaxPooling2D(pool_size=(2, 2)))\n",
        "\n",
        "model.add(Conv2D(64, (3, 3)))\n",
        "model.add(Activation('relu'))\n",
        "model.add(MaxPooling2D(pool_size=(2, 2)))\n",
        "\n",
        "model.add(Flatten())\n",
        "model.add(Dense(128))\n",
        "model.add(Activation('relu'))\n",
        "model.add(Dropout(0.1))\n",
        "\n",
        "model.add(Dense(128))\n",
        "model.add(Activation('relu'))\n",
        "model.add(Dropout(0.5))\n",
        "\n",
        "model.add(Dense(128))\n",
        "model.add(Activation('relu'))\n",
        "model.add(Dropout(0.5))\n",
        "\n",
        "model.add(Dense(num_classes))\n",
        "model.add(Activation('softmax'))\n",
        "\n",
        "model.compile(loss='categorical_crossentropy',\n",
        "              optimizer='rmsprop',\n",
        "              metrics=['accuracy'])\n",
        "model.summary()"
      ],
      "execution_count": 14,
      "outputs": [
        {
          "output_type": "error",
          "ename": "TypeError",
          "evalue": "ignored",
          "traceback": [
            "\u001b[0;31m---------------------------------------------------------------------------\u001b[0m",
            "\u001b[0;31mTypeError\u001b[0m                                 Traceback (most recent call last)",
            "\u001b[0;32m<ipython-input-14-8625b0d914ec>\u001b[0m in \u001b[0;36m<module>\u001b[0;34m()\u001b[0m\n\u001b[0;32m----> 1\u001b[0;31m \u001b[0mmodel\u001b[0m\u001b[0;34m.\u001b[0m\u001b[0madd\u001b[0m\u001b[0;34m(\u001b[0m\u001b[0mConv2D\u001b[0m\u001b[0;34m(\u001b[0m\u001b[0minput_shape\u001b[0m\u001b[0;34m=\u001b[0m\u001b[0;34m(\u001b[0m\u001b[0;36m256\u001b[0m\u001b[0;34m,\u001b[0m \u001b[0;36m256\u001b[0m\u001b[0;34m,\u001b[0m \u001b[0;36m3\u001b[0m\u001b[0;34m)\u001b[0m\u001b[0;34m)\u001b[0m\u001b[0;34m)\u001b[0m\u001b[0;34m\u001b[0m\u001b[0;34m\u001b[0m\u001b[0m\n\u001b[0m\u001b[1;32m      2\u001b[0m \u001b[0mmodel\u001b[0m\u001b[0;34m.\u001b[0m\u001b[0madd\u001b[0m\u001b[0;34m(\u001b[0m\u001b[0mActivation\u001b[0m\u001b[0;34m(\u001b[0m\u001b[0;34m'relu'\u001b[0m\u001b[0;34m)\u001b[0m\u001b[0;34m)\u001b[0m\u001b[0;34m\u001b[0m\u001b[0;34m\u001b[0m\u001b[0m\n\u001b[1;32m      3\u001b[0m \u001b[0mmodel\u001b[0m\u001b[0;34m.\u001b[0m\u001b[0madd\u001b[0m\u001b[0;34m(\u001b[0m\u001b[0mMaxPooling2D\u001b[0m\u001b[0;34m(\u001b[0m\u001b[0mpool_size\u001b[0m\u001b[0;34m=\u001b[0m\u001b[0;34m(\u001b[0m\u001b[0;36m2\u001b[0m\u001b[0;34m,\u001b[0m \u001b[0;36m2\u001b[0m\u001b[0;34m)\u001b[0m\u001b[0;34m)\u001b[0m\u001b[0;34m)\u001b[0m\u001b[0;34m\u001b[0m\u001b[0;34m\u001b[0m\u001b[0m\n\u001b[1;32m      4\u001b[0m \u001b[0;34m\u001b[0m\u001b[0m\n\u001b[1;32m      5\u001b[0m \u001b[0mmodel\u001b[0m\u001b[0;34m.\u001b[0m\u001b[0madd\u001b[0m\u001b[0;34m(\u001b[0m\u001b[0mConv2D\u001b[0m\u001b[0;34m(\u001b[0m\u001b[0;36m32\u001b[0m\u001b[0;34m,\u001b[0m \u001b[0;34m(\u001b[0m\u001b[0;36m3\u001b[0m\u001b[0;34m,\u001b[0m \u001b[0;36m3\u001b[0m\u001b[0;34m)\u001b[0m\u001b[0;34m)\u001b[0m\u001b[0;34m)\u001b[0m\u001b[0;34m\u001b[0m\u001b[0;34m\u001b[0m\u001b[0m\n",
            "\u001b[0;31mTypeError\u001b[0m: __init__() missing 2 required positional arguments: 'filters' and 'kernel_size'"
          ]
        }
      ]
    },
    {
      "metadata": {
        "id": "n7XEA6iGPVSh",
        "colab_type": "code",
        "colab": {}
      },
      "cell_type": "code",
      "source": [
        "csv_logger5 = CSVLogger('trail5_model_training.log')\n",
        "\n",
        "history = model.fit_generator(\n",
        "    train_generator,\n",
        "    steps_per_epoch=math.ceil(train_generator.n//train_generator.batch_size),\n",
        "    epochs=50,\n",
        "    validation_data=validation_generator,\n",
        "    validation_steps=math.ceil(validation_generator.samples //\n",
        "                      validation_generator.batch_size),\n",
        "    callbacks=[csv_logger5, es],\n",
        "    use_multiprocessing=True,\n",
        "    workers=0\n",
        ")"
      ],
      "execution_count": 0,
      "outputs": []
    },
    {
      "metadata": {
        "id": "NVV8SuA_PcID",
        "colab_type": "code",
        "colab": {}
      },
      "cell_type": "code",
      "source": [
        "# summarize history for accuracy\n",
        "plt.plot(history.history['acc'])\n",
        "plt.plot(history.history['val_acc'])\n",
        "plt.title('model accuracy')\n",
        "plt.ylabel('accuracy')\n",
        "plt.xlabel('epoch')\n",
        "plt.legend(['train', 'test'], loc='best')\n",
        "plt.show()"
      ],
      "execution_count": 0,
      "outputs": []
    },
    {
      "metadata": {
        "id": "IRJy-6ZiPfME",
        "colab_type": "code",
        "colab": {}
      },
      "cell_type": "code",
      "source": [
        "# summarize history for loss\n",
        "plt.plot(history.history['loss'])\n",
        "plt.plot(history.history['val_loss'])\n",
        "plt.title('model loss')\n",
        "plt.ylabel('loss')\n",
        "plt.xlabel('epoch')\n",
        "plt.legend(['train', 'test'], loc='best')\n",
        "plt.show()"
      ],
      "execution_count": 0,
      "outputs": []
    },
    {
      "metadata": {
        "id": "qR1Z6LKgPfKT",
        "colab_type": "code",
        "colab": {}
      },
      "cell_type": "code",
      "source": [
        "predictions = model.predict_generator(\n",
        "    test_generator, test_generator.n // test_generator.batch_size, verbose=1\n",
        ")\n",
        "\n",
        "y_pred = np.argmax(predictions, axis=1)\n",
        "y_true = integer_encoding(new_df['class'])\n",
        "\n",
        "print(accuracy_score(y_true, y_pred))\n",
        "print(classification_report(y_true, y_pred))\n",
        "\n",
        "scores = model.evaluate_generator(\n",
        "    test_generator, test_generator.n // test_generator.batch_size, verbose=1\n",
        ")\n",
        "\n",
        "print('The accuracy is: {}'.format(str(scores[1]*100.0)))"
      ],
      "execution_count": 0,
      "outputs": []
    },
    {
      "metadata": {
        "id": "ST_Xac1dMeLd",
        "colab_type": "code",
        "colab": {
          "base_uri": "https://localhost:8080/",
          "height": 562
        },
        "outputId": "c2cfcc27-cb2c-4ae4-c8f3-368d9f19fc1b"
      },
      "cell_type": "code",
      "source": [
        "from tensorflow.python.keras.layers import Activation,Dropout,BatchNormalization,Dense,Convolution2D,Flatten\n",
        "\n",
        "model = Sequential()\n",
        "\n",
        "model.add(Convolution2D(20,(3,3),input_shape=(256, 256, 3)))\n",
        "model.add(Activation('relu'))\n",
        "model.add(Dropout(0.5))\n",
        "\n",
        "model.add(Convolution2D(20,(3,3)))\n",
        "model.add(Activation('relu'))\n",
        "model.add(Dropout(0.5))\n",
        "\n",
        "\n",
        "model.add(Flatten())\n",
        "model.add(Dense(80))\n",
        "model.add(Activation('relu'))\n",
        "model.add(Dropout(0.5))\n",
        "model.add(Dense(19))\n",
        "model.add(Activation('softmax'))\n",
        "\n",
        "\n",
        "model.compile(loss='categorical_crossentropy',optimizer='Adam',metrics=['accuracy'])\n",
        "model.summary()"
      ],
      "execution_count": 15,
      "outputs": [
        {
          "output_type": "stream",
          "text": [
            "_________________________________________________________________\n",
            "Layer (type)                 Output Shape              Param #   \n",
            "=================================================================\n",
            "conv2d_6 (Conv2D)            (None, 254, 254, 20)      560       \n",
            "_________________________________________________________________\n",
            "activation_5 (Activation)    (None, 254, 254, 20)      0         \n",
            "_________________________________________________________________\n",
            "dropout_2 (Dropout)          (None, 254, 254, 20)      0         \n",
            "_________________________________________________________________\n",
            "conv2d_7 (Conv2D)            (None, 252, 252, 20)      3620      \n",
            "_________________________________________________________________\n",
            "activation_6 (Activation)    (None, 252, 252, 20)      0         \n",
            "_________________________________________________________________\n",
            "dropout_3 (Dropout)          (None, 252, 252, 20)      0         \n",
            "_________________________________________________________________\n",
            "flatten_1 (Flatten)          (None, 1270080)           0         \n",
            "_________________________________________________________________\n",
            "dense_2 (Dense)              (None, 80)                101606480 \n",
            "_________________________________________________________________\n",
            "activation_7 (Activation)    (None, 80)                0         \n",
            "_________________________________________________________________\n",
            "dropout_4 (Dropout)          (None, 80)                0         \n",
            "_________________________________________________________________\n",
            "dense_3 (Dense)              (None, 19)                1539      \n",
            "_________________________________________________________________\n",
            "activation_8 (Activation)    (None, 19)                0         \n",
            "=================================================================\n",
            "Total params: 101,612,199\n",
            "Trainable params: 101,612,199\n",
            "Non-trainable params: 0\n",
            "_________________________________________________________________\n"
          ],
          "name": "stdout"
        }
      ]
    },
    {
      "metadata": {
        "id": "sMSCgrseMkhZ",
        "colab_type": "code",
        "colab": {
          "base_uri": "https://localhost:8080/",
          "height": 562
        },
        "outputId": "96548145-0fde-491a-cc79-2bb6aaf47bff"
      },
      "cell_type": "code",
      "source": [
        "csv_logger5 = CSVLogger('trail5_model_training.log')\n",
        "\n",
        "history = model.fit_generator(\n",
        "    train_generator,\n",
        "    steps_per_epoch=math.ceil(train_generator.n//train_generator.batch_size),\n",
        "    epochs=50,\n",
        "    validation_data=validation_generator,\n",
        "    validation_steps=math.ceil(validation_generator.samples //\n",
        "                      validation_generator.batch_size),\n",
        "    callbacks=[csv_logger5, es],\n",
        "    use_multiprocessing=True,\n",
        "    workers=0\n",
        ")"
      ],
      "execution_count": 16,
      "outputs": [
        {
          "output_type": "stream",
          "text": [
            "Epoch 1/50\n",
            "51/51 [==============================] - 55s 1s/step - loss: 15.7325 - acc: 0.0239 - val_loss: 15.7223 - val_acc: 0.0246\n",
            "Epoch 2/50\n",
            "51/51 [==============================] - 51s 991ms/step - loss: 15.5650 - acc: 0.0343 - val_loss: 15.7217 - val_acc: 0.0246\n",
            "Epoch 3/50\n",
            "51/51 [==============================] - 50s 975ms/step - loss: 15.5946 - acc: 0.0325 - val_loss: 15.7217 - val_acc: 0.0246\n",
            "Epoch 4/50\n",
            "51/51 [==============================] - 50s 971ms/step - loss: 15.5551 - acc: 0.0349 - val_loss: 15.7217 - val_acc: 0.0246\n",
            "Epoch 5/50\n",
            "51/51 [==============================] - 49s 969ms/step - loss: 14.8050 - acc: 0.0812 - val_loss: 13.2596 - val_acc: 0.1773\n",
            "Epoch 6/50\n",
            "51/51 [==============================] - 49s 968ms/step - loss: 13.5302 - acc: 0.1606 - val_loss: 13.4758 - val_acc: 0.1639\n",
            "Epoch 7/50\n",
            "51/51 [==============================] - 50s 971ms/step - loss: 13.5599 - acc: 0.1587 - val_loss: 13.4758 - val_acc: 0.1639\n",
            "Epoch 8/50\n",
            "51/51 [==============================] - 50s 972ms/step - loss: 13.5680 - acc: 0.1582 - val_loss: 13.4758 - val_acc: 0.1639\n",
            "Epoch 9/50\n",
            "51/51 [==============================] - 49s 968ms/step - loss: 13.5253 - acc: 0.1609 - val_loss: 13.2596 - val_acc: 0.1773\n",
            "Epoch 10/50\n",
            "51/51 [==============================] - 50s 971ms/step - loss: 13.5253 - acc: 0.1609 - val_loss: 12.7071 - val_acc: 0.2116\n",
            "Epoch 11/50\n",
            "51/51 [==============================] - 49s 970ms/step - loss: 13.5451 - acc: 0.1596 - val_loss: 12.7071 - val_acc: 0.2116\n",
            "Epoch 12/50\n",
            "51/51 [==============================] - 49s 967ms/step - loss: 13.8315 - acc: 0.1419 - val_loss: 12.7071 - val_acc: 0.2116\n",
            "Epoch 13/50\n",
            "51/51 [==============================] - 49s 970ms/step - loss: 13.8760 - acc: 0.1391 - val_loss: 12.7071 - val_acc: 0.2116\n",
            "Epoch 14/50\n",
            "51/51 [==============================] - 50s 971ms/step - loss: 13.8463 - acc: 0.1409 - val_loss: 12.7071 - val_acc: 0.2116\n",
            "Epoch 15/50\n",
            "51/51 [==============================] - 49s 970ms/step - loss: 13.8019 - acc: 0.1437 - val_loss: 12.7071 - val_acc: 0.2116\n",
            "Epoch 00015: early stopping\n"
          ],
          "name": "stdout"
        }
      ]
    },
    {
      "metadata": {
        "id": "rHU0e91fMnv6",
        "colab_type": "code",
        "colab": {
          "base_uri": "https://localhost:8080/",
          "height": 294
        },
        "outputId": "83469d58-4e37-4de0-b266-b90d23efa7fa"
      },
      "cell_type": "code",
      "source": [
        "# summarize history for accuracy\n",
        "plt.plot(history.history['acc'])\n",
        "plt.plot(history.history['val_acc'])\n",
        "plt.title('model accuracy')\n",
        "plt.ylabel('accuracy')\n",
        "plt.xlabel('epoch')\n",
        "plt.legend(['train', 'test'], loc='best')\n",
        "plt.show()"
      ],
      "execution_count": 17,
      "outputs": [
        {
          "output_type": "display_data",
          "data": {
            "image/png": "[encoded data removed]",
            "text/plain": [
              "<matplotlib.figure.Figure at 0x7f87f516b320>"
            ]
          },
          "metadata": {
            "tags": []
          }
        }
      ]
    },
    {
      "metadata": {
        "id": "OJquHNXTMoP8",
        "colab_type": "code",
        "colab": {
          "base_uri": "https://localhost:8080/",
          "height": 294
        },
        "outputId": "0dc88b00-0a4f-42b1-c84f-735800392a77"
      },
      "cell_type": "code",
      "source": [
        "# summarize history for loss\n",
        "plt.plot(history.history['loss'])\n",
        "plt.plot(history.history['val_loss'])\n",
        "plt.title('model loss')\n",
        "plt.ylabel('loss')\n",
        "plt.xlabel('epoch')\n",
        "plt.legend(['train', 'test'], loc='best')\n",
        "plt.show()"
      ],
      "execution_count": 18,
      "outputs": [
        {
          "output_type": "display_data",
          "data": {
            "image/png": "[encoded data removed]",
            "text/plain": [
              "<matplotlib.figure.Figure at 0x7f87f51178d0>"
            ]
          },
          "metadata": {
            "tags": []
          }
        }
      ]
    },
    {
      "metadata": {
        "id": "-GM6Jo9_Mq9t",
        "colab_type": "code",
        "colab": {
          "base_uri": "https://localhost:8080/",
          "height": 776
        },
        "outputId": "b60923df-3958-4277-9272-d32224504472"
      },
      "cell_type": "code",
      "source": [
        "predictions = model.predict_generator(\n",
        "    test_generator, test_generator.n // test_generator.batch_size, verbose=1\n",
        ")\n",
        "\n",
        "y_pred = np.argmax(predictions, axis=1)\n",
        "y_true = integer_encoding(new_df['class'])\n",
        "\n",
        "print('precision: {}'.format(str(accuracy_score(y_true, y_pred) * 100.0)))\n",
        "print(classification_report(y_true, y_pred))\n",
        "\n",
        "precision, recall, fscore, support = score(y_true, y_pred)\n",
        "\n",
        "print('precision: {}'.format(precision))\n",
        "print('recall: {}'.format(recall))\n",
        "print('fscore: {}'.format(fscore))\n",
        "print('support: {}'.format(support))\n",
        "\n",
        "scores = model.evaluate_generator(\n",
        "    test_generator, test_generator.n // test_generator.batch_size, verbose=1\n",
        ")\n",
        "\n",
        "print('The accuracy is: {}'.format(str(scores[1]*100.0)))"
      ],
      "execution_count": 19,
      "outputs": [
        {
          "output_type": "stream",
          "text": [
            "1671/1671 [==============================] - 27s 16ms/step\n",
            "precision: 19.449431478156793\n",
            "              precision    recall  f1-score   support\n",
            "\n",
            "           0       0.00      0.00      0.00        19\n",
            "           1       0.00      0.00      0.00        22\n",
            "           2       0.00      0.00      0.00        51\n",
            "           3       0.00      0.00      0.00         3\n",
            "           4       0.00      0.00      0.00         7\n",
            "           5       0.00      0.00      0.00       217\n",
            "           6       0.00      0.00      0.00       125\n",
            "           7       0.00      0.00      0.00         6\n",
            "           8       0.00      0.00      0.00        59\n",
            "           9       0.00      0.00      0.00         3\n",
            "          10       0.00      0.00      0.00         1\n",
            "          11       0.00      0.00      0.00       274\n",
            "          12       0.00      0.00      0.00        74\n",
            "          13       0.00      0.00      0.00        15\n",
            "          14       0.00      0.00      0.00        19\n",
            "          15       0.00      0.00      0.00         3\n",
            "          16       0.00      0.00      0.00        29\n",
            "          17       0.19      1.00      0.33       325\n",
            "          18       0.00      0.00      0.00       419\n",
            "\n",
            "   micro avg       0.19      0.19      0.19      1671\n",
            "   macro avg       0.01      0.05      0.02      1671\n",
            "weighted avg       0.04      0.19      0.06      1671\n",
            "\n",
            "precision: [0.         0.         0.         0.         0.         0.\n",
            " 0.         0.         0.         0.         0.         0.\n",
            " 0.         0.         0.         0.         0.         0.19449431\n",
            " 0.        ]\n",
            "recall: [0. 0. 0. 0. 0. 0. 0. 0. 0. 0. 0. 0. 0. 0. 0. 0. 0. 1. 0.]\n",
            "fscore: [0.        0.        0.        0.        0.        0.        0.\n",
            " 0.        0.        0.        0.        0.        0.        0.\n",
            " 0.        0.        0.        0.3256513 0.       ]\n",
            "support: [ 19  22  51   3   7 217 125   6  59   3   1 274  74  15  19   3  29 325\n",
            " 419]\n",
            "   9/1671 [..............................] - ETA: 27s"
          ],
          "name": "stdout"
        },
        {
          "output_type": "stream",
          "text": [
            "/usr/local/lib/python3.6/dist-packages/sklearn/metrics/classification.py:1143: UndefinedMetricWarning: Precision and F-score are ill-defined and being set to 0.0 in labels with no predicted samples.\n",
            "  'precision', 'predicted', average, warn_for)\n"
          ],
          "name": "stderr"
        },
        {
          "output_type": "stream",
          "text": [
            "1671/1671 [==============================] - 28s 16ms/step\n",
            "The accuracy is: 0.17953321364452424\n"
          ],
          "name": "stdout"
        }
      ]
    },
    {
      "metadata": {
        "id": "5gWn2WoEtyPD",
        "colab_type": "code",
        "colab": {}
      },
      "cell_type": "code",
      "source": [
        "# https://stats.stackexchange.com/questions/352036/what-should-i-do-when-my-neural-network-doesnt-learn\n",
        "# https://stats.stackexchange.com/questions/272607/cifar-10-cant-get-above-60-accuracy-keras-with-tensorflow-backend\n",
        "\n",
        "# law lesa mazbatitsh hashyl el rescale\n",
        "# Model 1, \n",
        "# Model 2, \n",
        "# Model 3, \n",
        "# Model 4, \n",
        "# Model 5, \n",
        "# Model 6, "
      ],
      "execution_count": 0,
      "outputs": []
    }
  ]
}